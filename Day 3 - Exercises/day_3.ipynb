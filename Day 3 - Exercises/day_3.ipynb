{
 "cells": [
  {
   "cell_type": "markdown",
   "id": "5ff5883f-2154-4049-a042-54356a88e908",
   "metadata": {},
   "source": [
    "# Looping or Iterations\n",
    "\n",
    "A common idiom when dealing with sequences is to loop over the contents of the sequence. You might want to filter out one of the items, apply a function to it, or print it out. \n",
    "`The for loop is one way to do this.`\n",
    "\n",
    "\n",
    "```python\n",
    "for acc_no in ['01554', '74859', '74589']:\n",
    "    print(acc_no)\n",
    "```\n",
    "\n",
    "\n",
    "> Notice that a for loop construct contains a colon (:) followed by the indented code. \n",
    "(The indented code is the block of the for loop)\n",
    "\n",
    "During a `for` loop, Python makes a new variable, `acc_no` that holds the item of iteration. Note that the value of `acc_no` is NOT the index position, but rather the string.."
   ]
  },
  {
   "cell_type": "code",
   "execution_count": null,
   "id": "2922c4fc-e7a9-4858-a8f9-e8d16f670312",
   "metadata": {},
   "outputs": [],
   "source": [
    "# Examples of for loops"
   ]
  },
  {
   "cell_type": "code",
   "execution_count": null,
   "id": "d8d8471b-6208-4b30-9357-99c1b0980e58",
   "metadata": {},
   "outputs": [],
   "source": [
    "# Examples of for loops"
   ]
  },
  {
   "cell_type": "code",
   "execution_count": null,
   "id": "c747efc9-f5e6-483e-90ed-d3a4b757a5a0",
   "metadata": {},
   "outputs": [],
   "source": [
    "# Examples of for loops"
   ]
  },
  {
   "cell_type": "markdown",
   "id": "d8fb0133-27b5-4eee-aec4-43383983e0a6",
   "metadata": {},
   "source": [
    "## Looping with an index\n",
    "\n",
    "In languages like C, when you loop over a sequence, you do not loop over the items in the sequence, rather you loop over the indices. Using those indices you can pull out the items at those index values. However, in Python, the reason for looping is to get the items/members in the sequence and not the indices. But you will occasionally need the index position of the item. The `enumerate` function does this for us.\n",
    "\n",
    "\n",
    "```python\n",
    "bank_acc = ['01554', '74859', '74589']\n",
    "for index, value in enumerate(bank_acc):\n",
    "    print(index, value)\n",
    "\n",
    "```"
   ]
  },
  {
   "cell_type": "code",
   "execution_count": null,
   "id": "96ef2749-4cc6-40f0-8cd0-357f0e3a3527",
   "metadata": {},
   "outputs": [],
   "source": [
    "# Examples of Enumerate"
   ]
  },
  {
   "cell_type": "code",
   "execution_count": null,
   "id": "9430442e-e996-4110-ba86-385a49175e60",
   "metadata": {},
   "outputs": [],
   "source": [
    "# Examples of Enumerate"
   ]
  },
  {
   "cell_type": "code",
   "execution_count": null,
   "id": "c72eed0c-96a9-486b-b059-cfa6bacddf92",
   "metadata": {},
   "outputs": [],
   "source": [
    "# Examples of Enumerate"
   ]
  },
  {
   "cell_type": "markdown",
   "id": "c7007e60-3307-47fb-af57-3bf418608091",
   "metadata": {},
   "source": [
    "## Breaking out of a Loop\n",
    "\n",
    "You may need to stop processing a loop early, without going over every item in the loop. The `break` keyword will jump out of the nearest loop you are in.\n",
    "\n",
    "\n",
    "```python\n",
    "numbers = [3,5,9,-1,3,1]\n",
    "\n",
    "result = 0\n",
    "\n",
    "for num in numbers:\n",
    "    if num < 0:\n",
    "        break\n",
    "    result = result + num\n",
    "```\n",
    "\n",
    "\n",
    "> The line:\n",
    "\n",
    "> `result = result + num`\n",
    "\n",
    "> can be re-written with an `augmented assignment` i.e.\n",
    "\n",
    "> `result+= num`"
   ]
  },
  {
   "cell_type": "code",
   "execution_count": null,
   "id": "75730e3f-75ee-4c53-992a-0ebdb1226681",
   "metadata": {},
   "outputs": [],
   "source": [
    "# Examples of break statement"
   ]
  },
  {
   "cell_type": "code",
   "execution_count": null,
   "id": "cb659241-b11c-4772-b878-573ea8a1b809",
   "metadata": {},
   "outputs": [],
   "source": [
    "# Examples of break statement"
   ]
  },
  {
   "cell_type": "code",
   "execution_count": null,
   "id": "d125e1d1-c8a6-43ae-97c0-61ad7c0b5dc0",
   "metadata": {},
   "outputs": [],
   "source": [
    "# Examples of break statement"
   ]
  },
  {
   "cell_type": "code",
   "execution_count": null,
   "id": "16b47b73-1c76-4919-b2ff-6fa043fcd961",
   "metadata": {},
   "outputs": [],
   "source": [
    "# Examples of break statement"
   ]
  },
  {
   "cell_type": "markdown",
   "id": "4ee16eb4-868d-4b44-9e7f-51173e4643e7",
   "metadata": {},
   "source": [
    "## Skipping over items in a Loop\n",
    "\n",
    "\n",
    "Another common looping idiom is skipping over items. If the body of the loop takes a while to execute, but you only need to execute it for certain items in the sequence, the `continue` keyword comes in handy.\n",
    "\n",
    "`The continue statement tells Python to disregard processing of the current item in the for loop and \"continue\" from the top of the block with the next value in the loop.`\n",
    "\n",
    "```python\n",
    "numbers = [3,5,9,-1,3,1]\n",
    "\n",
    "result = 0\n",
    "\n",
    "for number in numbers:\n",
    "    if number < 0:\n",
    "        continue\n",
    "    result = result + number\n",
    "```"
   ]
  },
  {
   "cell_type": "code",
   "execution_count": null,
   "id": "bbc7df5e-a978-4856-a529-a11e8b02bf22",
   "metadata": {},
   "outputs": [],
   "source": [
    "# Examples of Continue"
   ]
  },
  {
   "cell_type": "code",
   "execution_count": null,
   "id": "c819e0aa-576c-4197-9c9b-f25ed7bf8f94",
   "metadata": {},
   "outputs": [],
   "source": [
    "# Examples of Continue"
   ]
  },
  {
   "cell_type": "code",
   "execution_count": null,
   "id": "df0d45a8-2a1e-416f-a347-8c7298bfc7ac",
   "metadata": {},
   "outputs": [],
   "source": [
    "# Examples of Continue"
   ]
  },
  {
   "cell_type": "markdown",
   "id": "8697024a-8f18-4e3e-82c1-f29b05845c6b",
   "metadata": {},
   "source": [
    "## The in statement\n",
    "\n",
    "The `in` statement can be used to check for membership. If you want to know if a list contains an item, you can use the `in` statement to check that.\n",
    "\n",
    "\n",
    "```python\n",
    "user_names = ['Joseph', 'Awuah', 'Steven', 'Bright']\n",
    "\n",
    "# Check if the list contains Awuah\n",
    "'Awuah' in user_names\n",
    "\n",
    "# To check the index\n",
    "user_names.index('Awuah')\n",
    "```"
   ]
  },
  {
   "cell_type": "code",
   "execution_count": null,
   "id": "262b30e7-a4e3-47e6-a95f-305e2a843398",
   "metadata": {},
   "outputs": [],
   "source": [
    "# Using the in statement"
   ]
  },
  {
   "cell_type": "code",
   "execution_count": null,
   "id": "d0ec21aa-5346-4688-9b2e-0f736a9dcec1",
   "metadata": {},
   "outputs": [],
   "source": [
    "# Using the in statement"
   ]
  },
  {
   "cell_type": "markdown",
   "id": "0d1e5f16-70d3-46b7-a66d-6160468273b4",
   "metadata": {},
   "source": [
    ".."
   ]
  },
  {
   "cell_type": "markdown",
   "id": "53e941f5-4c54-4065-831d-9e03cf4d5bd5",
   "metadata": {},
   "source": [
    "# while loops\n",
    "\n",
    "Python will let you loop over a block of code while a condition holds. This is the `while` loop and you use a `while` statement to create it. A while loop is followed by an expression that evaluates to `True` or `False` then a  colon (:) follows it.\n",
    " An indented block of code follows the colon. This block of code will continue to repeat as long as the expression evaluates to `True`. This allows you to easily create an `infinite` loop.\n",
    "\n",
    ">You usually try to avoid infinite loops because they cause your program to ”hang”, forever caught in the processing of a loop with no way out.\n",
    "\n",
    "\n",
    "```python\n",
    "n = 3\n",
    "\n",
    "while n > 0:\n",
    "    print(n)\n",
    "    n = n-1\n",
    "```\n",
    "\n",
    "You can also use the break statement to exit a while loop:\n",
    "\n",
    "```python\n",
    "n = 3\n",
    "while True:\n",
    "    print(n)\n",
    "    n = n-1\n",
    "    if n == 0:\n",
    "        break\n",
    "\n",
    "```"
   ]
  },
  {
   "cell_type": "code",
   "execution_count": null,
   "id": "d4685dfa-db41-45e7-86ef-b4284f9b7170",
   "metadata": {},
   "outputs": [],
   "source": [
    "# Examples of while loops"
   ]
  },
  {
   "cell_type": "code",
   "execution_count": null,
   "id": "110740a4-d272-438f-8495-1cde9d403c04",
   "metadata": {},
   "outputs": [],
   "source": [
    "# Examples of while loops"
   ]
  },
  {
   "cell_type": "code",
   "execution_count": null,
   "id": "f2b7789d-389d-4ed1-8cff-a80d3887c5c1",
   "metadata": {},
   "outputs": [],
   "source": [
    "# Examples of while loops"
   ]
  },
  {
   "cell_type": "code",
   "execution_count": 2,
   "id": "ae21296a-55c7-46bd-a616-7940214e5dda",
   "metadata": {},
   "outputs": [],
   "source": [
    "# Create a list with the names of friends and colleagues. Calculate the average length of\n",
    "# the names."
   ]
  },
  {
   "cell_type": "markdown",
   "id": "023fec17-1e4c-4146-b147-25a8c5520986",
   "metadata": {},
   "source": [
    "es:\n",
    "ow.t)."
   ]
  },
  {
   "cell_type": "markdown",
   "id": "a168642b-fba9-4f38-893a-c0d7c6589821",
   "metadata": {},
   "source": [
    "# Dictioinaries\n",
    "\n",
    "\n",
    "You can compare a Python dictionary to an English dictionary. An English dictionary has words and definitions. The purpose of a dictionary is to allow fast lookup of the word in order to find the definition. You can quickly look up any word by doing a binary search (open up the dictionary to the midpoint, and determine which half the word is in, and repeat).\n",
    "\n",
    "A Python dictionary also has words and definitions, but you call them `keys` and `values` respectively. The purpose of a dictionary is to provide fast lookup of the keys. You can quickly look for a key and pull out the value associated with it. Like an English dictionary, where it would take a long time to determine the word from a definition (if you didn’t know the word beforehand), looking up the value is slow.\n",
    "\n",
    "\n",
    "## Dictionary Assignment\n",
    "Dictionaries provide a link from a `key` to a `value`. (Other languages call them hashes, hashmaps, maps, or associative arrays).\n",
    "\n",
    "> Suppose you wanted to store information about an individual. You saw how you could use a tuple to represent a record. A dictionary is another mechanism. Because dictionaries are built into Python, you can use a literal syntax to create one. This one has first and last names:\n",
    "\n",
    "```python\n",
    "info = {'first_name': 'Joseph', 'last_name': 'Awuah'}\n",
    "```"
   ]
  },
  {
   "cell_type": "code",
   "execution_count": null,
   "id": "a30699e3-0fea-4708-a509-523bc7bc298a",
   "metadata": {},
   "outputs": [],
   "source": [
    "# Examples with Dictionaries"
   ]
  },
  {
   "cell_type": "code",
   "execution_count": null,
   "id": "73779513-45b1-4c3e-8032-d2963089bcd9",
   "metadata": {},
   "outputs": [],
   "source": [
    "# Examples with Dictionaries"
   ]
  },
  {
   "cell_type": "code",
   "execution_count": null,
   "id": "0351cb55-add5-4404-8097-a2d614cde407",
   "metadata": {},
   "outputs": [],
   "source": [
    "# Examples with Dictionaries"
   ]
  },
  {
   "cell_type": "markdown",
   "id": "8323b620-f64b-4ed6-acec-b152f19cc9d8",
   "metadata": {},
   "source": [
    "## Inserting values into a dictionary\n",
    "\n",
    "```python\n",
    "info['age'] = 38\n",
    "info['occupation'] = 'Analyst'\n",
    "```"
   ]
  },
  {
   "cell_type": "code",
   "execution_count": null,
   "id": "52e9307f-1751-4098-ab26-456e27c78bd2",
   "metadata": {},
   "outputs": [],
   "source": [
    "# Examples of inserting values"
   ]
  },
  {
   "cell_type": "code",
   "execution_count": null,
   "id": "a774e9bd-35c4-4537-8542-9c58b4427818",
   "metadata": {},
   "outputs": [],
   "source": [
    "# Examples of updating values"
   ]
  },
  {
   "cell_type": "markdown",
   "id": "095fe4dc-299c-4934-8c5d-7483f0986d8e",
   "metadata": {},
   "source": [
    "## Retrieving values from a dictionary\n",
    "\n",
    "As you have seen, the square bracket literal syntax can pull a value out of a dictionary when \n",
    "you use the brackets without assignment\n",
    "\n",
    "```python\n",
    "info['age']\n",
    "```\n",
    "\n",
    "> As you have seen, the square bracket literal syntax can pull a value out of a dictionary when \n",
    "you use the brackets without assignment::"
   ]
  },
  {
   "cell_type": "code",
   "execution_count": null,
   "id": "129e819e-8de1-473c-a1dd-0367c53682d1",
   "metadata": {},
   "outputs": [],
   "source": [
    "# Examples of retrieving values from dictionaries"
   ]
  },
  {
   "cell_type": "code",
   "execution_count": null,
   "id": "475ca59c-8c15-4e2f-a1bf-ee7fbd5f2c7b",
   "metadata": {},
   "outputs": [],
   "source": [
    "# Examples of retrieving values from dictionaries"
   ]
  },
  {
   "cell_type": "code",
   "execution_count": null,
   "id": "ecc31d30-8375-4b77-af5e-e99be2f070b7",
   "metadata": {},
   "outputs": [],
   "source": [
    "# Examples of retrieving values from dictionaries"
   ]
  },
  {
   "cell_type": "markdown",
   "id": "8a949a4e-de5d-4cab-9668-55675bcc60bc",
   "metadata": {},
   "source": [
    "o)\n",
    "```"
   ]
  },
  {
   "cell_type": "markdown",
   "id": "6cbbe93d-729c-4ed8-a3b2-d5901641e248",
   "metadata": {},
   "source": [
    "## Dictionary Methods\n",
    "\n",
    "The `.get` method of a dictionary will retrieve a value for a key. .get also accepts an optional parameter to provide a default value if the key is not found. If you wanted the genre to default to 'Rock', you could do the following:\n",
    "\n",
    "```python\n",
    "role = info.get('job', 'Banker')\n",
    "```\n",
    "\n",
    "> The .get method of dictionaries is one way to get around the KeyError thrown when trying to use the bracket notation to pull out a key not found in the dictionary. It is fine to use this method because you are being explicit about what will happen when the key is missing. You should prefer to fail fast when you aren’t being specific about the failing case.\n",
    "\n",
    "\n",
    "Inspect more methods\n",
    "\n",
    "```python\n",
    "dir(info)\n",
    "```"
   ]
  },
  {
   "cell_type": "code",
   "execution_count": null,
   "id": "42bb044a-2a54-45de-8790-b4eaf5a76c95",
   "metadata": {},
   "outputs": [],
   "source": [
    "# Examples of dictionary methods get"
   ]
  },
  {
   "cell_type": "code",
   "execution_count": null,
   "id": "a271e093-24e8-4632-a36e-147b24b49975",
   "metadata": {},
   "outputs": [],
   "source": [
    "# Examples of dictionary methods get"
   ]
  },
  {
   "cell_type": "code",
   "execution_count": null,
   "id": "83b71e24-4fa0-49a2-bda5-4d87504f7398",
   "metadata": {},
   "outputs": [],
   "source": [
    "# Examples of dictionary methods del"
   ]
  },
  {
   "cell_type": "markdown",
   "id": "d8b0d5f1-432d-4017-bf69-21278c072cf0",
   "metadata": {},
   "source": [
    ":"
   ]
  },
  {
   "cell_type": "markdown",
   "id": "d3114699-efbc-401b-8995-5c7958473e5d",
   "metadata": {},
   "source": [
    "## Dictionary iteration\n",
    "\n",
    "Dictionaries also support iteration using the `for` statement. By default, when you iterate over a dictionary, you get back the keys:\n",
    "\n",
    "```python\n",
    "data = {'Joseph': 38, 'Awuah': 28}\n",
    "\n",
    "for name in data:\n",
    "    print(name)\n",
    "```"
   ]
  },
  {
   "cell_type": "code",
   "execution_count": null,
   "id": "ee6e7322-5b8d-48fa-915a-528d32af0fed",
   "metadata": {},
   "outputs": [],
   "source": [
    "# Working with Dictionary Keys"
   ]
  },
  {
   "cell_type": "code",
   "execution_count": null,
   "id": "6f81c7bf-25c2-4681-9387-ee1a1042121a",
   "metadata": {},
   "outputs": [],
   "source": [
    "# Working with Dictionary Keys"
   ]
  },
  {
   "cell_type": "code",
   "execution_count": null,
   "id": "ac152dfa-f1eb-4788-afe4-da4901c188c2",
   "metadata": {},
   "outputs": [],
   "source": [
    "# Working with Dictionary Keys"
   ]
  },
  {
   "cell_type": "markdown",
   "id": "8a59f316-5f74-47f5-aaa9-60f25c578b95",
   "metadata": {},
   "source": [
    "> To iterate over the values of a dictionary, iterate over the .values method:\n",
    "\n",
    "```python\n",
    "for value in data.values():\n",
    "    print(value)\n",
    "```\n",
    "\n",
    "\n",
    "> To retrieve both key and value during iteration, use the .items method, which returns \n",
    "a view\n",
    "```python\n",
    "for key, value in data.items():\n",
    "    print(key, value)\n",
    "``:"
   ]
  },
  {
   "cell_type": "code",
   "execution_count": null,
   "id": "48d6c40c-1e81-4b5b-bee7-e4b28730e367",
   "metadata": {},
   "outputs": [],
   "source": [
    "# More Examples"
   ]
  },
  {
   "cell_type": "code",
   "execution_count": null,
   "id": "a4b4d37d-ed81-49c6-9df1-52b4c7ac0934",
   "metadata": {},
   "outputs": [],
   "source": [
    "# Final Project: Write a paragraph in a triple-quoted string. Use the .split method to create a list of\n",
    "# words. Create a dictionary to hold the count for every word in the paragraph.\n",
    "\n"
   ]
  }
 ],
 "metadata": {
  "kernelspec": {
   "display_name": "Python 3 (ipykernel)",
   "language": "python",
   "name": "python3"
  },
  "language_info": {
   "codemirror_mode": {
    "name": "ipython",
    "version": 3
   },
   "file_extension": ".py",
   "mimetype": "text/x-python",
   "name": "python",
   "nbconvert_exporter": "python",
   "pygments_lexer": "ipython3",
   "version": "3.8.10"
  }
 },
 "nbformat": 4,
 "nbformat_minor": 5
}
