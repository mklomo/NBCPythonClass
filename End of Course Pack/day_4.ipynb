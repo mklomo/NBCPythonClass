{
 "cells": [
  {
   "cell_type": "markdown",
   "id": "1c8d0a16-30b7-4a9e-b3c3-1c7dfe653f47",
   "metadata": {},
   "source": [
    "# Functions\n",
    "\n",
    "Functions are the major building blocks of Python programs. They are discrete units of code, isolated into their own block. In this course you have used several in-built functions - `float, int, dict, list, range, enumerate`.\n",
    "\n",
    "One way to think of a function is as a black box to which you can send input (though input is not required). The black box then performs a series of operations and returns output (it implicitly returns None if the function ends without return being called).\n",
    "\n",
    "\n",
    "```python\n",
    "def add_numbers(num_1, num_2):\n",
    "    '''\n",
    "    This function takes two numbers and adds them\n",
    "\n",
    "    input\n",
    "    num_1: A number \n",
    "    num_2: A number\n",
    "\n",
    "    Output\n",
    "    result: A number which is the result n_1 + n_2\n",
    "    '''\n",
    "    result = num_1 + num_2\n",
    "\n",
    "    return result\n",
    "\n",
    "```"
   ]
  },
  {
   "cell_type": "code",
   "execution_count": null,
   "id": "a63c5045-60bf-4fe3-8c30-8c6730829909",
   "metadata": {},
   "outputs": [],
   "source": [
    "# Example of an inbuilt function"
   ]
  },
  {
   "cell_type": "code",
   "execution_count": null,
   "id": "dd7b1a19-8459-471e-ad73-cd07fb3d9424",
   "metadata": {},
   "outputs": [],
   "source": [
    "# Example of an inbuilt function"
   ]
  },
  {
   "cell_type": "code",
   "execution_count": null,
   "id": "6927385d-4a12-40c7-81b9-99607bdf195c",
   "metadata": {},
   "outputs": [],
   "source": [
    "# Example of a created function"
   ]
  },
  {
   "cell_type": "markdown",
   "id": "dd0cb68d-9709-4e08-8795-e336e94ce84c",
   "metadata": {},
   "source": [
    "## The anatomy of a function\n",
    "\n",
    "What are the different components of a function? This whole group of code is known as\n",
    "a `function definition`. First, you see the `def` statement, which is short for **define** (i.e. define a\n",
    "function). Following `def` is a required space - *one space is fine :)* - and then the function name—\n",
    "`add_numbers`. This is the name that is used to `invoke the function`. Synonyms for `invoke` include `call, execute, or run the function`. When Python creates a function, it will create a new variable,\n",
    "using the name of the function.\n",
    "\n",
    "\n",
    "Following the function name is a left parenthesis followed by num_1, num_2 and a right parenthesis.\n",
    "The names between the parentheses (there can be an arbitrary number of names, in this case,\n",
    "there is only one), are the `input parameters`. `These are the objects that you pass into a function.`\n",
    "\n",
    "\n",
    "After the parentheses comes a colon `(:)`. `Whenever you see a colon in Python, you should\n",
    "immediately think the colon is followed by an indented block—similar to the body of the\n",
    "for loops`. Everything that is indented is the body of the function. It is also called a `block of code`.\n",
    "\n",
    "\n",
    "The body of a function is where the logic lives. You might recognize the first 3 lines of indented code as a triple-quoted string. `This is not a comment, though it appears to have comment-like text`. `It is a string. Python allows you to place a string immediately after the :, this string is called a docstring`. A docstring is a string used solely for documentation. It should describe the block of code following it. The docstring does not affect the logic in the function.\n",
    "\n",
    "\n",
    "> Following the docstring (note that a docstring is optional), comes the logic of the function. The result is calculated. Finally, the function uses a return statement to indicate that it has output. A return statement is not necessary, and if it is missing a function will return None by default. Furthermore, you can use more than one return statement, and they do not even have to be at the end of the function. For example, a conditional block may contain a return statement inside of an if block and another in an else block.\n",
    "\n",
    "\n",
    "Main parts of a function:\n",
    "- the *def* keyword\n",
    "- A function name\n",
    "- Function Parameters b/n parenthesis\n",
    "- a colon (:)\n",
    "- indentation\n",
    "    - docstring\n",
    "    - logic\n",
    "    - return statement\n",
    "\n",
    "**Lets use functions to improve our code**"
   ]
  },
  {
   "cell_type": "code",
   "execution_count": 5,
   "id": "38a0963b-f660-4a76-adc3-44d6f841bc40",
   "metadata": {},
   "outputs": [],
   "source": [
    "def add_numbers(num_1, num_2):\n",
    "    '''\n",
    "    This function takes two numbers and adds them\n",
    "\n",
    "    input\n",
    "    num_1: A number \n",
    "    num_2: A number\n",
    "\n",
    "    Output\n",
    "    result: A number which is the result n_1 + n_2\n",
    "    '''\n",
    "    result = num_1 + num_2\n",
    "\n",
    "    return result"
   ]
  },
  {
   "cell_type": "code",
   "execution_count": 6,
   "id": "563a20ac-9bfa-4dd5-8f0b-585051fa5654",
   "metadata": {},
   "outputs": [
    {
     "data": {
      "text/plain": [
       "\u001b[1;31mSignature:\u001b[0m \u001b[0madd_numbers\u001b[0m\u001b[1;33m(\u001b[0m\u001b[0mnum_1\u001b[0m\u001b[1;33m,\u001b[0m \u001b[0mnum_2\u001b[0m\u001b[1;33m)\u001b[0m\u001b[1;33m\u001b[0m\u001b[1;33m\u001b[0m\u001b[0m\n",
       "\u001b[1;31mDocstring:\u001b[0m\n",
       "This function takes two numbers and adds them\n",
       "\n",
       "input\n",
       "num_1: A number \n",
       "num_2: A number\n",
       "\n",
       "Output\n",
       "result: A number which is the result n_1 + n_2\n",
       "\u001b[1;31mFile:\u001b[0m      c:\\users\\marvi\\appdata\\local\\temp\\ipykernel_12044\\680748521.py\n",
       "\u001b[1;31mType:\u001b[0m      function"
      ]
     },
     "metadata": {},
     "output_type": "display_data"
    }
   ],
   "source": [
    "add_numbers?"
   ]
  },
  {
   "cell_type": "code",
   "execution_count": null,
   "id": "14019c19-132d-4ddd-af7f-6bf6a7da6ec1",
   "metadata": {},
   "outputs": [],
   "source": [
    "# Lets create some more functions"
   ]
  },
  {
   "cell_type": "code",
   "execution_count": null,
   "id": "b9ba9530-2cca-4b04-8598-8549fded989a",
   "metadata": {},
   "outputs": [],
   "source": [
    "# Lets create some more functions"
   ]
  },
  {
   "cell_type": "code",
   "execution_count": null,
   "id": "201ec151-6f32-4842-ac30-ab110baa19fb",
   "metadata": {},
   "outputs": [],
   "source": [
    "# Lets create some more functions"
   ]
  },
  {
   "cell_type": "code",
   "execution_count": 9,
   "id": "4dbf0f60-087c-45f6-8a37-2ce643908141",
   "metadata": {},
   "outputs": [
    {
     "data": {
      "text/plain": [
       "False"
      ]
     },
     "execution_count": 9,
     "metadata": {},
     "output_type": "execute_result"
    }
   ],
   "source": [
    "# Write a function is_in that accepts two strings as arguments and\n",
    "# returns True if either string occurs anywhere in the other, and False otherwise.\n",
    "# Hint: you might want to use the built-in str operator in.\n",
    "\n",
    "def is_in(string1, string2):\n",
    "    \"\"\"\n",
    "    that accepts two strings as arguments\n",
    "    output: returns True if either string occurs anywhere in the other, and False otherwise.\n",
    "    \"\"\"\n",
    "\n",
    "    if string1 in string2 or string2 in string1:\n",
    "        return True\n",
    "    return False\n",
    "\n",
    "    \n",
    "is_in(string1='zebra', string2='ball')"
   ]
  },
  {
   "cell_type": "code",
   "execution_count": null,
   "id": "c6977a47-b7c1-4517-9b92-f0d52e381c66",
   "metadata": {},
   "outputs": [],
   "source": [
    "# Write a function that thas 3 parameters 'first_name', 'second_name' and reverse\n",
    "# first_name and last_name are string inputs whilst reverse is a boolean input\n",
    "# If reverse is True, the function should print out the last_name and first.\n",
    "# Else the function should print out first_name and last name"
   ]
  },
  {
   "cell_type": "code",
   "execution_count": null,
   "id": "81b41980-9814-4b35-bec1-458cdb7dd84d",
   "metadata": {},
   "outputs": [],
   "source": [
    "# After testing the function above, now, ask the user to input their first name and last name and \n",
    "# wehther they'd want their name reversed.\n",
    "# Supply the user-provided data into your function"
   ]
  },
  {
   "cell_type": "markdown",
   "id": "6cd2561e-859b-41fb-82fb-288f19b11a1b",
   "metadata": {},
   "source": [
    ":o."
   ]
  },
  {
   "cell_type": "markdown",
   "id": "60e2a281-3217-4c40-9b88-83e5c560dcc4",
   "metadata": {},
   "source": [
    "## Default Parameters\n",
    "\n",
    "One cool feature of Python functions is `default parameters`. Like the name implies, default\n",
    "parameters allow you to specify the default values for function parameters. The default\n",
    "parameters are then optional, though you can override them if you need to.\n",
    "\n",
    "The following function is similar to `add_numbers`, but `num_2` will default to adding 3 if the\n",
    "second number is not provided:\n",
    "\n",
    "```python\n",
    "def add_n(num_1, num_2=3):\n",
    "    '''\n",
    "    This functions adds two numbers\n",
    "\n",
    "    Input Parameters\n",
    "    num_1: A numeric parameter\n",
    "    num_2: A numeric parameter which defaults to 3 if not specified\n",
    "\n",
    "    Output\n",
    "    returns a numeric output from the added inputs\n",
    "    '''\n",
    "    return num_1 + num_2\n",
    "```"
   ]
  },
  {
   "cell_type": "code",
   "execution_count": null,
   "id": "d2283f44-cb38-4f7b-86d8-f9eebcd699e7",
   "metadata": {},
   "outputs": [],
   "source": [
    "# Examples of functions"
   ]
  },
  {
   "cell_type": "code",
   "execution_count": null,
   "id": "97229ab6-6e9d-483b-ab50-d20827660f4c",
   "metadata": {},
   "outputs": [],
   "source": [
    "# Examples of functions"
   ]
  },
  {
   "cell_type": "code",
   "execution_count": null,
   "id": "156d3e8f-a267-4482-b9b9-d8973b4e5a78",
   "metadata": {},
   "outputs": [],
   "source": [
    "# Examples of functions"
   ]
  },
  {
   "cell_type": "markdown",
   "id": "f46f5cda-c8c8-482a-bc44-deaff4b06d6c",
   "metadata": {},
   "source": [
    "Function naming conventions are similar to variable naming conventions. This is called snake case, which is claimed to be easier to \n",
    "read. Function names should\n",
    "- be lowercase\n",
    "- have_an_underscore_between_words\n",
    "- not start with numbers\n",
    "- not override built-ins\n",
    "- not be a keyword:"
   ]
  },
  {
   "cell_type": "code",
   "execution_count": null,
   "id": "c965cfea-9127-490e-af57-7ee725f6ce31",
   "metadata": {},
   "outputs": [],
   "source": [
    "# Write a function, is_odd, that takes an integer and returns True if the number is odd\n",
    "# and False if the number is not odd."
   ]
  },
  {
   "cell_type": "markdown",
   "id": "060adf15-c256-46e9-95ae-4906c037cc7d",
   "metadata": {},
   "source": [
    "e.on.s."
   ]
  },
  {
   "cell_type": "markdown",
   "id": "d72b94b2-c835-4e18-97b9-cb08c65e5f8a",
   "metadata": {},
   "source": [
    "# Libraries\n",
    "\n",
    "\n",
    "Many languages have the concept of libraries or reusable chunks of code. Python comes with a whole swath of libraries, commonly referred to as “batteries included”. You need to know how to use the batteries that are found in these libraries.\n",
    "\n",
    "To use a library, you have to load the code from that library into your namespace. The namespace holds the functions, classes, and variables you have access to. If you want to calculate the sine of an angle you will need to define a function that does that or load a preexisting function.\n",
    "\n",
    "\n",
    "```python\n",
    "from math import sin, pi\n",
    "\n",
    "sin(pi/2)\n",
    "```\n",
    "\n",
    "The above code loads the math module. But it doesn’t put math in your namespace. Rather it creates a variable that points to the sin function from the math module. It also creates a variable that points to the pi variable found in the math module.\n",
    "\n",
    "\n",
    "To avoid conflicting import names please use aliasing.\n",
    "\n",
    "```python\n",
    "import math as mt\n",
    "```"
   ]
  },
  {
   "cell_type": "code",
   "execution_count": 3,
   "id": "105d87a9-7288-4881-8c1e-ce6f392ce364",
   "metadata": {},
   "outputs": [
    {
     "data": {
      "text/plain": [
       "\u001b[1;31mDocstring:\u001b[0m\n",
       "print(value, ..., sep=' ', end='\\n', file=sys.stdout, flush=False)\n",
       "\n",
       "Prints the values to a stream, or to sys.stdout by default.\n",
       "Optional keyword arguments:\n",
       "file:  a file-like object (stream); defaults to the current sys.stdout.\n",
       "sep:   string inserted between values, default a space.\n",
       "end:   string appended after the last value, default a newline.\n",
       "flush: whether to forcibly flush the stream.\n",
       "\u001b[1;31mType:\u001b[0m      builtin_function_or_method"
      ]
     },
     "metadata": {},
     "output_type": "display_data"
    }
   ],
   "source": [
    "print?"
   ]
  },
  {
   "cell_type": "code",
   "execution_count": 1,
   "id": "e14e2936-c3be-4454-a1b7-3f3778fccc5c",
   "metadata": {},
   "outputs": [
    {
     "data": {
      "text/plain": [
       "['__doc__',\n",
       " '__loader__',\n",
       " '__name__',\n",
       " '__package__',\n",
       " '__spec__',\n",
       " 'acos',\n",
       " 'acosh',\n",
       " 'asin',\n",
       " 'asinh',\n",
       " 'atan',\n",
       " 'atan2',\n",
       " 'atanh',\n",
       " 'ceil',\n",
       " 'comb',\n",
       " 'copysign',\n",
       " 'cos',\n",
       " 'cosh',\n",
       " 'degrees',\n",
       " 'dist',\n",
       " 'e',\n",
       " 'erf',\n",
       " 'erfc',\n",
       " 'exp',\n",
       " 'expm1',\n",
       " 'fabs',\n",
       " 'factorial',\n",
       " 'floor',\n",
       " 'fmod',\n",
       " 'frexp',\n",
       " 'fsum',\n",
       " 'gamma',\n",
       " 'gcd',\n",
       " 'hypot',\n",
       " 'inf',\n",
       " 'isclose',\n",
       " 'isfinite',\n",
       " 'isinf',\n",
       " 'isnan',\n",
       " 'isqrt',\n",
       " 'ldexp',\n",
       " 'lgamma',\n",
       " 'log',\n",
       " 'log10',\n",
       " 'log1p',\n",
       " 'log2',\n",
       " 'modf',\n",
       " 'nan',\n",
       " 'perm',\n",
       " 'pi',\n",
       " 'pow',\n",
       " 'prod',\n",
       " 'radians',\n",
       " 'remainder',\n",
       " 'sin',\n",
       " 'sinh',\n",
       " 'sqrt',\n",
       " 'tan',\n",
       " 'tanh',\n",
       " 'tau',\n",
       " 'trunc']"
      ]
     },
     "execution_count": 1,
     "metadata": {},
     "output_type": "execute_result"
    }
   ],
   "source": [
    "# Example of the math library import\n",
    "\n",
    "import math\n",
    "\n",
    "\n",
    "dir(math)"
   ]
  },
  {
   "cell_type": "code",
   "execution_count": 6,
   "id": "05b647bc-0d4a-4f86-8b4b-b4275cdf0ab7",
   "metadata": {},
   "outputs": [],
   "source": [
    "# Example of the pandas library import"
   ]
  },
  {
   "cell_type": "markdown",
   "id": "7f3487e1-d6e0-4a11-897f-1ca013accc7f",
   "metadata": {},
   "source": [
    "### Welcome to the Pandas Library! "
   ]
  }
 ],
 "metadata": {
  "kernelspec": {
   "display_name": "Python 3 (ipykernel)",
   "language": "python",
   "name": "python3"
  },
  "language_info": {
   "codemirror_mode": {
    "name": "ipython",
    "version": 3
   },
   "file_extension": ".py",
   "mimetype": "text/x-python",
   "name": "python",
   "nbconvert_exporter": "python",
   "pygments_lexer": "ipython3",
   "version": "3.8.10"
  }
 },
 "nbformat": 4,
 "nbformat_minor": 5
}
