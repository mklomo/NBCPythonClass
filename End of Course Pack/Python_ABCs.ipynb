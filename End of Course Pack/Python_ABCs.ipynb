{
 "cells": [
  {
   "cell_type": "markdown",
   "id": "342cd68a-0736-4547-9b07-2883fadc190b",
   "metadata": {},
   "source": [
    "# The Basic Elements of Python\n",
    "\n",
    "Print the following to your terminal\n",
    "> print('Helo World!')\n",
    "\n",
    "> print('I love Football')\n",
    "\n",
    "> print('BOG is the best bank in GH!')"
   ]
  },
  {
   "cell_type": "code",
   "execution_count": 1,
   "id": "dd2d3705-4f6b-44ad-956b-1ac2db25bf29",
   "metadata": {},
   "outputs": [
    {
     "name": "stdout",
     "output_type": "stream",
     "text": [
      "Hello World\n"
     ]
    }
   ],
   "source": [
    "# Print Here\n",
    "\n",
    "print('Hello World')"
   ]
  },
  {
   "cell_type": "code",
   "execution_count": 2,
   "id": "c4a62cc6-6916-478c-8487-cb6d4ee5964f",
   "metadata": {},
   "outputs": [
    {
     "name": "stdout",
     "output_type": "stream",
     "text": [
      "I love CBG\n"
     ]
    }
   ],
   "source": [
    "# Print Here\n",
    "\n",
    "print('I love CBG')"
   ]
  },
  {
   "cell_type": "code",
   "execution_count": 3,
   "id": "b84215f0-589c-4fda-beb7-8f883b33b0de",
   "metadata": {},
   "outputs": [
    {
     "name": "stdout",
     "output_type": "stream",
     "text": [
      "A snack break!\n"
     ]
    }
   ],
   "source": [
    "# Print Here\n",
    "\n",
    "print('A snack break!')"
   ]
  },
  {
   "cell_type": "markdown",
   "id": "8175b8a8-8415-4f46-aa27-5dcc2a51a6c8",
   "metadata": {},
   "source": [
    "# Objects, Expressions, and Numerical\n",
    "\n",
    "Objects are the core things that Python programs manipulate. Everything in Python is an **object**.\n",
    "\n",
    "Python has four types of scalar objects:\n",
    "- int: is used to represent integers. Literals of type int are written in the way we \n",
    "typically denote integers (e.g., -3 or 5 or 10002)\n",
    "- float: is used to represent real numbers. Literals of type float always include a \n",
    "decimal point (e.g., 3.0 or 3.1,7 or -28.72)\n",
    "- bool: is used to represent the Boolean values True and False.\n",
    "- None: is a type with a single value.\n",
    "\n",
    "\n",
    "Objects and operators are combined to form `expression`, each of which evaluates to an object of some type i.e. the **value** of the expression.at.at..."
   ]
  },
  {
   "cell_type": "code",
   "execution_count": 4,
   "id": "992eb539-5b47-4e5b-a865-637ce37c42da",
   "metadata": {},
   "outputs": [
    {
     "data": {
      "text/plain": [
       "8"
      ]
     },
     "execution_count": 4,
     "metadata": {},
     "output_type": "execute_result"
    }
   ],
   "source": [
    "# Add any two integers of your choice\n",
    "\n",
    "3+5"
   ]
  },
  {
   "cell_type": "code",
   "execution_count": 5,
   "id": "25a58843-9ca8-4a50-8d55-0cfe217ffc25",
   "metadata": {},
   "outputs": [
    {
     "data": {
      "text/plain": [
       "28"
      ]
     },
     "execution_count": 5,
     "metadata": {},
     "output_type": "execute_result"
    }
   ],
   "source": [
    "# Add any two integers of your choice\n",
    "\n",
    "(5+9)*2"
   ]
  },
  {
   "cell_type": "code",
   "execution_count": 6,
   "id": "66758311-f745-4476-9775-1c2ae862f923",
   "metadata": {},
   "outputs": [
    {
     "data": {
      "text/plain": [
       "95.333"
      ]
     },
     "execution_count": 6,
     "metadata": {},
     "output_type": "execute_result"
    }
   ],
   "source": [
    "# Add any 3 floats of your choice\n",
    "\n",
    "5.333 + 90"
   ]
  },
  {
   "cell_type": "markdown",
   "id": "f2dae0a3-ef7d-45e0-915e-e597c1f5565d",
   "metadata": {},
   "source": [
    "The `==` operator is used to test whether two expressions evaluate to the same\r\n",
    "value, and the`!=`= operator is used to test whether two expressions evaluate to differen \r\n",
    "value\n",
    "\n",
    "**A single `=` means something quite different** s."
   ]
  },
  {
   "cell_type": "code",
   "execution_count": 7,
   "id": "4137b587-1344-4865-af3f-c70b9b8e1053",
   "metadata": {},
   "outputs": [
    {
     "data": {
      "text/plain": [
       "True"
      ]
     },
     "execution_count": 7,
     "metadata": {},
     "output_type": "execute_result"
    }
   ],
   "source": [
    "# Check whether 5 is EXACTLY EQUAL TO 5\n",
    "\n",
    "3 == 3"
   ]
  },
  {
   "cell_type": "code",
   "execution_count": 10,
   "id": "c7fd3ab4-8851-417a-b968-fae6c398cf56",
   "metadata": {},
   "outputs": [
    {
     "data": {
      "text/plain": [
       "False"
      ]
     },
     "execution_count": 10,
     "metadata": {},
     "output_type": "execute_result"
    }
   ],
   "source": [
    "# Check whether 3 and 3.01 are equak\n",
    "\n",
    "3 == 3.01"
   ]
  },
  {
   "cell_type": "code",
   "execution_count": 11,
   "id": "1b670d8c-7f51-42a8-83eb-271f2a9cd82f",
   "metadata": {},
   "outputs": [
    {
     "data": {
      "text/plain": [
       "False"
      ]
     },
     "execution_count": 11,
     "metadata": {},
     "output_type": "execute_result"
    }
   ],
   "source": [
    "# Check whether 3 is NOT EQUAL TO 3\n",
    "\n",
    "3 != 3"
   ]
  },
  {
   "cell_type": "code",
   "execution_count": 12,
   "id": "2d776399-0b57-4c30-91a7-d87a5c491dda",
   "metadata": {},
   "outputs": [
    {
     "data": {
      "text/plain": [
       "True"
      ]
     },
     "execution_count": 12,
     "metadata": {},
     "output_type": "execute_result"
    }
   ],
   "source": [
    "# Check whether 1 + 2 is LESS THANK or EQUAL TO  3 + 4\n",
    "\n",
    "1 + 2 <= 3+4"
   ]
  },
  {
   "cell_type": "markdown",
   "id": "f8088971-d1fd-493f-9e4f-17690649c163",
   "metadata": {},
   "source": [
    "> You can use the *type* built-in function to find out the type of an object"
   ]
  },
  {
   "cell_type": "code",
   "execution_count": null,
   "id": "5b45fda2-987c-4ca7-91c1-c90777794e36",
   "metadata": {},
   "outputs": [],
   "source": [
    "# Check the type for 8.3"
   ]
  },
  {
   "cell_type": "code",
   "execution_count": null,
   "id": "dfdce2b2-d916-4828-9530-8148dad07687",
   "metadata": {},
   "outputs": [],
   "source": [
    "# Check the type for 84500"
   ]
  },
  {
   "cell_type": "code",
   "execution_count": null,
   "id": "0be6a8be-5954-46aa-8fb8-7d2d4c84b47a",
   "metadata": {},
   "outputs": [],
   "source": [
    "# Check the type for 8.0"
   ]
  },
  {
   "cell_type": "code",
   "execution_count": null,
   "id": "1b12ba03-499d-430c-907b-6881fd4b27ec",
   "metadata": {},
   "outputs": [],
   "source": [
    "# Check the type for 84500.0"
   ]
  },
  {
   "cell_type": "markdown",
   "id": "ea3fbe31-a8c1-4e3d-84b1-3ad1578d990b",
   "metadata": {},
   "source": [
    "## Mathematical Operations in Python\n",
    "\n",
    "\n",
    "| Syntax      | Description |\n",
    "| ----------- | ----------- |\n",
    "| a + b | Sum of a and b |\n",
    "| a - b   | Difference between a and b        |\n",
    "| a * b | The product of a and b|\n",
    "| a / b   | Quotient of a and b        |\n",
    "| a // b   | floored quotient of a and b        |\n",
    "| a % b   | remainder of a and b        |\n",
    "| - a   | a negated a        |\n",
    "| abs(a)   | absolute value of a        |\n",
    "| int(a)   | a converted integer        |\n",
    "| float(a)   | a converted floating point number        |\n",
    "| a ** b | a to the power of b |\n",
    "| pow(a,b) | a to the power of b |"
   ]
  },
  {
   "cell_type": "code",
   "execution_count": null,
   "id": "8e819fcc-33a2-4ac5-bf55-042473a89001",
   "metadata": {},
   "outputs": [],
   "source": [
    "# Performing Mathematical Operations with Python"
   ]
  },
  {
   "cell_type": "code",
   "execution_count": null,
   "id": "37e95835-a72f-485b-bba4-397a571c57d0",
   "metadata": {},
   "outputs": [],
   "source": [
    "# Performing Mathematical Operations with Python"
   ]
  },
  {
   "cell_type": "markdown",
   "id": "194e4943-2bb7-47a4-b7c4-727ac54a0ac1",
   "metadata": {},
   "source": [
    "Primitive operators on type bool are `and`, `or` and `not`:\n",
    "- a and b is True if BOTH a and b are True, and False otherwise\n",
    "- a or b is True if at least one of a or b is True and False otherwise\n",
    "- not a is True if a is False and False if a is True"
   ]
  },
  {
   "cell_type": "code",
   "execution_count": 13,
   "id": "03177039-1906-45c7-a528-e3db1a95e44c",
   "metadata": {},
   "outputs": [
    {
     "data": {
      "text/plain": [
       "True"
      ]
     },
     "execution_count": 13,
     "metadata": {},
     "output_type": "execute_result"
    }
   ],
   "source": [
    "# Exercises on Boolean Operators\n",
    "\n",
    "\n",
    "(1 + 2) <= (2 + 7) and (3 + 6) >= (2 + 7) "
   ]
  },
  {
   "cell_type": "code",
   "execution_count": 14,
   "id": "df3ab742-68d0-45ee-90e2-e8d2f9668232",
   "metadata": {},
   "outputs": [
    {
     "data": {
      "text/plain": [
       "False"
      ]
     },
     "execution_count": 14,
     "metadata": {},
     "output_type": "execute_result"
    }
   ],
   "source": [
    "# Exercises on Boolean Operators\n",
    "\n",
    "(1 + 2) <= (2 + 7) and (3 + 6) > (2 + 7) "
   ]
  },
  {
   "cell_type": "code",
   "execution_count": 15,
   "id": "3a5bd5d1-0446-4ad8-b53e-60f06c719e23",
   "metadata": {},
   "outputs": [
    {
     "data": {
      "text/plain": [
       "True"
      ]
     },
     "execution_count": 15,
     "metadata": {},
     "output_type": "execute_result"
    }
   ],
   "source": [
    "# Exercises on Boolean Operators\n",
    "\n",
    "(1 + 2) <= (2 + 7) or (3 + 6) > (2 + 7) "
   ]
  },
  {
   "cell_type": "code",
   "execution_count": 20,
   "id": "f115ef2a-a9d8-4357-93db-7b4607da51bc",
   "metadata": {},
   "outputs": [
    {
     "data": {
      "text/plain": [
       "False"
      ]
     },
     "execution_count": 20,
     "metadata": {},
     "output_type": "execute_result"
    }
   ],
   "source": [
    "# Exercises on Boolean Operators\n",
    "\n",
    "(1 + 2) <= (2 + 7) and (3 + 6) > (2 + 7) or (10 + 20) <= (3 + 2)"
   ]
  },
  {
   "cell_type": "code",
   "execution_count": 19,
   "id": "afa8a95c-6c32-40bb-8558-ca610af400fd",
   "metadata": {},
   "outputs": [
    {
     "data": {
      "text/plain": [
       "True"
      ]
     },
     "execution_count": 19,
     "metadata": {},
     "output_type": "execute_result"
    }
   ],
   "source": [
    "# Exercises on Boolean Operators\n",
    "\n",
    "not ((1 + 2 ) == 5)"
   ]
  },
  {
   "cell_type": "markdown",
   "id": "dd011ffd-bea9-46af-8e28-301c2f45769f",
   "metadata": {},
   "source": [
    "# Variables and Assignment\n",
    "\n",
    "Variables provide a way to associate names with Objects.\n",
    "\n",
    "Consider the ff code:\n",
    "```python\n",
    "interest_rate = 0.45\n",
    "loan = 10 000\n",
    "annual_interest = interest_rate * loan\n",
    "\n",
    "loan = 20 000\n",
    "```\n",
    "\n",
    "\n",
    "The first code binds the names `interst_rate` and `loan` to the float and int types. It then binds the name `annual_interest` to the third object of type `float`.\n",
    "\n",
    "\n",
    "In Python, *a variable is just a name, nothing more*. An assignment statement associates the name on the left of the `=` symbol with the object denoted by the expression to the right of the symbol.\n",
    "> Names Matter!"
   ]
  },
  {
   "cell_type": "code",
   "execution_count": 25,
   "id": "bf191957-ea6b-4b8f-9601-b927401776f7",
   "metadata": {},
   "outputs": [
    {
     "name": "stdout",
     "output_type": "stream",
     "text": [
      "0.45\n",
      "10000\n",
      "4500.0\n"
     ]
    }
   ],
   "source": [
    "# Assigning names to the resulting value of an expression\n",
    "interest_rate = 0.45\n",
    "loan = 10_000\n",
    "annual_interest = interest_rate * loan\n",
    "\n",
    "print(interest_rate)\n",
    "print(loan)\n",
    "print(annual_interest)\n"
   ]
  },
  {
   "cell_type": "code",
   "execution_count": 28,
   "id": "d948804b-8a71-4443-90e5-10a49f17392e",
   "metadata": {},
   "outputs": [
    {
     "name": "stdout",
     "output_type": "stream",
     "text": [
      "0.5\n",
      "5000.0\n",
      "0.5\n"
     ]
    }
   ],
   "source": [
    "# Assigning names to the resulting value of an expression\n",
    "# Previous rate\n",
    "# interest_rate = 0.45\n",
    "loan = 10_000\n",
    "interest_rate = 0.50\n",
    "annual_interest = interest_rate * loan\n",
    "\n",
    "print(interest_rate)\n",
    "print(annual_interest)\n",
    "print(interest_rate)"
   ]
  },
  {
   "cell_type": "code",
   "execution_count": null,
   "id": "b2dab049-8710-40dd-b79b-030657fe4f61",
   "metadata": {},
   "outputs": [],
   "source": [
    "# Assigning names to the resulting value of an expression"
   ]
  },
  {
   "cell_type": "code",
   "execution_count": null,
   "id": "8d6c6e55-e5e9-4c6b-946d-7c9c6599317a",
   "metadata": {},
   "outputs": [],
   "source": [
    "# Assigning names to the resulting value of an expression"
   ]
  },
  {
   "cell_type": "code",
   "execution_count": null,
   "id": "6e42491f-2efa-43e6-a654-a312b3bb4356",
   "metadata": {},
   "outputs": [],
   "source": [
    "# Assigning names to the resulting value of an expression"
   ]
  },
  {
   "cell_type": "markdown",
   "id": "72f2caf9-2f8d-4b28-9813-c67db439d1c2",
   "metadata": {},
   "source": [
    "# Strings and Input\n",
    "\n",
    "Objects of type str (like we printed at the start of this notebook) are used to represent characters.\n",
    "\n",
    "String literals can be written using either single or double quotes e.g. `'National Banking College'` and `\"National Banking College\"`. \n",
    "\n",
    "Lets test the following in the next cells:\n",
    "```python\n",
    "`BOG`\n",
    "3*2\n",
    "3*`a`\n",
    "3+4\n",
    "`a` + `a`\n",
    "'NBC' + 'NBC'\n",
    "'NBC' * 'NBC'\n",
    "``` "
   ]
  },
  {
   "cell_type": "code",
   "execution_count": 35,
   "id": "17fa6708-72d3-4c54-9383-e4865002abd3",
   "metadata": {},
   "outputs": [
    {
     "name": "stdout",
     "output_type": "stream",
     "text": [
      "Joseph's---is---35---years old\n"
     ]
    }
   ],
   "source": [
    "# Test the code above\n",
    "class_president = 'Joseph\\'s'\n",
    "# class_president = \"Joseph's\"\n",
    "\n",
    "age = 35\n",
    "\n",
    "print(class_president, 'is', age, 'years old', sep='---')"
   ]
  },
  {
   "cell_type": "code",
   "execution_count": 30,
   "id": "f217ff82-3470-4505-9027-584f9722f538",
   "metadata": {},
   "outputs": [
    {
     "data": {
      "text/plain": [
       "\u001b[1;31mDocstring:\u001b[0m\n",
       "print(value, ..., sep=' ', end='\\n', file=sys.stdout, flush=False)\n",
       "\n",
       "Prints the values to a stream, or to sys.stdout by default.\n",
       "Optional keyword arguments:\n",
       "file:  a file-like object (stream); defaults to the current sys.stdout.\n",
       "sep:   string inserted between values, default a space.\n",
       "end:   string appended after the last value, default a newline.\n",
       "flush: whether to forcibly flush the stream.\n",
       "\u001b[1;31mType:\u001b[0m      builtin_function_or_method"
      ]
     },
     "metadata": {},
     "output_type": "display_data"
    }
   ],
   "source": [
    "print?"
   ]
  },
  {
   "cell_type": "code",
   "execution_count": null,
   "id": "0a794230-5baf-4a4a-ab42-f4efa962868c",
   "metadata": {},
   "outputs": [],
   "source": [
    "# Test the code above"
   ]
  },
  {
   "cell_type": "code",
   "execution_count": null,
   "id": "c6c47264-4c69-48e3-858e-c2256642697f",
   "metadata": {},
   "outputs": [],
   "source": [
    "# Test the code above"
   ]
  },
  {
   "cell_type": "code",
   "execution_count": null,
   "id": "08118075-a65a-4b66-bcde-86d68c47c40c",
   "metadata": {},
   "outputs": [],
   "source": [
    "# Test the code above"
   ]
  },
  {
   "cell_type": "code",
   "execution_count": null,
   "id": "8a39c7c4-87f3-477d-b7fe-fe89bc94f22d",
   "metadata": {},
   "outputs": [],
   "source": [
    "# Test the code above"
   ]
  },
  {
   "cell_type": "markdown",
   "id": "8a8c2fa1-aedf-4ef7-ada3-5b7ab52aca95",
   "metadata": {},
   "source": [
    "## Properties of Strings\n",
    "\n",
    "- Length: This can be used to find the length of a string. For example, the value of `len('abc')` is `3`.\n",
    "- Indexing: can be used to extract individual characters from a string. `In Python, all indexing is zero-based.`\n",
    "- Slicing: is used to extract substring for arbitrary length. If s is a string, the expression `s[start:end]` denotes the substring of s that starts from index start and ends at index end-1.\n"
   ]
  },
  {
   "cell_type": "code",
   "execution_count": 36,
   "id": "59b204b1-684f-4e66-a771-7a15c2603329",
   "metadata": {},
   "outputs": [
    {
     "data": {
      "text/plain": [
       "5"
      ]
     },
     "execution_count": 36,
     "metadata": {},
     "output_type": "execute_result"
    }
   ],
   "source": [
    "# Exercise of String Length\n",
    "\n",
    "vice_president = 'Awuah'\n",
    "\n",
    "len(vice_president)"
   ]
  },
  {
   "cell_type": "code",
   "execution_count": 37,
   "id": "3e3d1fd7-2cdc-4f84-b537-8464cf51271d",
   "metadata": {},
   "outputs": [
    {
     "name": "stdout",
     "output_type": "stream",
     "text": [
      "A\n"
     ]
    }
   ],
   "source": [
    "# Slicing the string\n",
    "\n",
    "print(vice_president[0])"
   ]
  },
  {
   "cell_type": "code",
   "execution_count": 38,
   "id": "e658bf2c-0f2e-48d5-94ab-19d26d16ad83",
   "metadata": {},
   "outputs": [
    {
     "name": "stdout",
     "output_type": "stream",
     "text": [
      "w\n"
     ]
    }
   ],
   "source": [
    "# Slicing the string\n",
    "\n",
    "print(vice_president[1])"
   ]
  },
  {
   "cell_type": "code",
   "execution_count": 39,
   "id": "0f280142-8556-4e5a-aec0-1dbea4d8156b",
   "metadata": {},
   "outputs": [
    {
     "name": "stdout",
     "output_type": "stream",
     "text": [
      "u\n"
     ]
    }
   ],
   "source": [
    "# Slicing the string\n",
    "\n",
    "print(vice_president[2])"
   ]
  },
  {
   "cell_type": "code",
   "execution_count": 40,
   "id": "8f4cb9f9-4e76-4777-9973-64ed8ac5ec78",
   "metadata": {},
   "outputs": [
    {
     "name": "stdout",
     "output_type": "stream",
     "text": [
      "a\n"
     ]
    }
   ],
   "source": [
    "# Slicing the string\n",
    "\n",
    "print(vice_president[3])"
   ]
  },
  {
   "cell_type": "code",
   "execution_count": 41,
   "id": "d598f00f-e637-45f7-bf6d-e61588383f19",
   "metadata": {},
   "outputs": [
    {
     "name": "stdout",
     "output_type": "stream",
     "text": [
      "h\n"
     ]
    }
   ],
   "source": [
    "# Slicing the string\n",
    "\n",
    "print(vice_president[4])"
   ]
  },
  {
   "cell_type": "code",
   "execution_count": 43,
   "id": "335f43f5-a9c2-42f5-ac35-b8e2408a0620",
   "metadata": {},
   "outputs": [
    {
     "name": "stdout",
     "output_type": "stream",
     "text": [
      "Aw\n"
     ]
    }
   ],
   "source": [
    "# Slicing the string\n",
    "\n",
    "print(vice_president[0:2])"
   ]
  },
  {
   "cell_type": "code",
   "execution_count": null,
   "id": "6d4b8f9a-47ea-4d69-a47b-e287c4fe5635",
   "metadata": {},
   "outputs": [],
   "source": [
    "# Exercise on String Slicing"
   ]
  },
  {
   "cell_type": "code",
   "execution_count": null,
   "id": "374209a5-6bd3-4e09-8de2-817c42affcd0",
   "metadata": {},
   "outputs": [],
   "source": [
    "# Exercise on String Slicing"
   ]
  },
  {
   "cell_type": "code",
   "execution_count": null,
   "id": "ab509087-4207-4f76-b798-e0ff40c2c588",
   "metadata": {},
   "outputs": [],
   "source": [
    "# Exercise on String Slicing"
   ]
  },
  {
   "cell_type": "code",
   "execution_count": null,
   "id": "7749ff69-8eb9-444d-bccd-05ea3ab03eaa",
   "metadata": {},
   "outputs": [],
   "source": [
    "# Exercise on String Slicing"
   ]
  },
  {
   "cell_type": "markdown",
   "id": "b39ac7be-f8b7-497d-8aab-4159a9f7b7c8",
   "metadata": {},
   "source": [
    "## Using f-strings\n",
    "\n",
    "An f-string consists of the character f (or F) following by a special kind\r\n",
    "of string literal called a formatted string literal. Formatted string literals contain\r\n",
    "both sequences of characters (like other string literals) and expressions bracketed\r\n",
    "by curly braces. These expressions are evaluated at runtime and automatically\r\n",
    "converted to strings."
   ]
  },
  {
   "cell_type": "code",
   "execution_count": 67,
   "id": "2735e53f-69dd-42c1-aadf-70c5171f5867",
   "metadata": {},
   "outputs": [
    {
     "name": "stdout",
     "output_type": "stream",
     "text": [
      "Your loan is GHC 10,000 and interest rate is 0.5%. Your annual interest payment is 5000.00\n"
     ]
    }
   ],
   "source": [
    "# Example on f-strings\n",
    "loan = 10_000\n",
    "interest_rate = 0.50\n",
    "\n",
    "\n",
    "\n",
    "print(f\"Your loan is GHC {loan:,} and interest rate is {interest_rate}%. Your annual interest payment is {loan * interest_rate:.2f}\")\n",
    "# print(f'Your loan is {loan} and interest rate is {interest_rate}. Your annual interest rate is {loan * interest_rate}')"
   ]
  },
  {
   "cell_type": "code",
   "execution_count": null,
   "id": "6f2ed437-0959-4597-b362-80f6eaec2d95",
   "metadata": {},
   "outputs": [],
   "source": [
    "# Example on f-strings"
   ]
  },
  {
   "cell_type": "code",
   "execution_count": null,
   "id": "3186df4f-b6da-467a-bf07-9a6f2c88196d",
   "metadata": {},
   "outputs": [],
   "source": [
    "# Example on f-strings"
   ]
  },
  {
   "cell_type": "markdown",
   "id": "2a42cadb-3a45-4c9b-81a9-c58cb13d74d5",
   "metadata": {},
   "source": [
    "# Input and some String Methods\n",
    "\n",
    "The input function can be used to get input directly from the user. The inpute function takes a string as an argument and displays it as a prompt in a shell.\n",
    "\n",
    "The function then waits for the user to typee something and press the entoer key. The line typed by the user is treated as string and becomes the valuereturned by the input function.\n"
   ]
  },
  {
   "cell_type": "code",
   "execution_count": 72,
   "id": "f3f6ee22-16cc-40ce-82c3-acab401b84bb",
   "metadata": {},
   "outputs": [
    {
     "name": "stdin",
     "output_type": "stream",
     "text": [
      "Please enter your MOMO Pin: 5458\n"
     ]
    },
    {
     "name": "stdout",
     "output_type": "stream",
     "text": [
      "Your MOMO Pin is 5458!\n"
     ]
    }
   ],
   "source": [
    "# Execute the input function to prompt the user to enter their name and print out 'Are you really <insert_name>?\n",
    "\n",
    "momo_pin = input('Please enter your MOMO Pin:')\n",
    "\n",
    "print(f'Your MOMO Pin is {momo_pin}!')"
   ]
  },
  {
   "cell_type": "code",
   "execution_count": null,
   "id": "f740c2b8-5520-4bef-bba0-2b24332aa510",
   "metadata": {},
   "outputs": [],
   "source": [
    "# Check the type of object returned by an input function"
   ]
  },
  {
   "cell_type": "code",
   "execution_count": null,
   "id": "711b07cd-2f5c-4ae2-8b08-eb7ba5ea1d09",
   "metadata": {},
   "outputs": [],
   "source": [
    "# Lets find out what methods are associated with a string object using dir"
   ]
  }
 ],
 "metadata": {
  "kernelspec": {
   "display_name": "Python 3 (ipykernel)",
   "language": "python",
   "name": "python3"
  },
  "language_info": {
   "codemirror_mode": {
    "name": "ipython",
    "version": 3
   },
   "file_extension": ".py",
   "mimetype": "text/x-python",
   "name": "python",
   "nbconvert_exporter": "python",
   "pygments_lexer": "ipython3",
   "version": "3.8.10"
  }
 },
 "nbformat": 4,
 "nbformat_minor": 5
}
