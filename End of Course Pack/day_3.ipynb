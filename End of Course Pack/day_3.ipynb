{
 "cells": [
  {
   "cell_type": "code",
   "execution_count": 2,
   "id": "0f9e8f6d-54b0-4555-aece-1bf168bab1b5",
   "metadata": {},
   "outputs": [
    {
     "name": "stdout",
     "output_type": "stream",
     "text": [
      "0\n",
      "1\n",
      "2\n",
      "3\n",
      "4\n"
     ]
    }
   ],
   "source": [
    "# From the range class\n",
    "\n",
    "num_rng = range(5)\n",
    "\n",
    "# list(num_rng)\n",
    "\n",
    "\n",
    "for num in num_rng:\n",
    "    print(num)"
   ]
  },
  {
   "cell_type": "markdown",
   "id": "5ff5883f-2154-4049-a042-54356a88e908",
   "metadata": {},
   "source": [
    "# Looping or Iterations\n",
    "\n",
    "A common idiom when dealing with sequences is to loop over the contents of the sequence. You might want to filter out one of the items, apply a function to it, or print it out. \n",
    "`The for loop is one way to do this.`\n",
    "\n",
    "\n",
    "```python\n",
    "for acc_no in ['01554', '74859', '74589']:\n",
    "    print(acc_no)\n",
    "```\n",
    "\n",
    "\n",
    "> Notice that a for loop construct contains a colon (:) followed by the indented code. \n",
    "(The indented code is the block of the for loop)\n",
    "\n",
    "During a `for` loop, Python makes a new variable, `acc_no` that holds the item of iteration. Note that the value of `acc_no` is NOT the index position, but rather the string.."
   ]
  },
  {
   "cell_type": "code",
   "execution_count": 3,
   "id": "2922c4fc-e7a9-4858-a8f9-e8d16f670312",
   "metadata": {},
   "outputs": [
    {
     "name": "stdout",
     "output_type": "stream",
     "text": [
      "10\n",
      "13\n",
      "16\n",
      "19\n"
     ]
    }
   ],
   "source": [
    "# Examples of for loops\n",
    "\n",
    "for num in range(10, 20, 3):\n",
    "    print(num)"
   ]
  },
  {
   "cell_type": "code",
   "execution_count": 5,
   "id": "d8d8471b-6208-4b30-9357-99c1b0980e58",
   "metadata": {},
   "outputs": [
    {
     "name": "stdout",
     "output_type": "stream",
     "text": [
      "10\n",
      "13\n",
      "I skipped this number --> 16\n",
      "I skipped this number --> 19\n"
     ]
    }
   ],
   "source": [
    "# Examples of for loops\n",
    "num_rng = range(10, 20, 3)\n",
    "\n",
    "# Loop over all items in your num_rng list\n",
    "for num in [10, 13, 16, 19]:\n",
    "    # Check if the number is less than 15\n",
    "    if num < 15:\n",
    "        # Print it out\n",
    "        print(num)\n",
    "    else:\n",
    "        print(f'I skipped this number --> {num}') "
   ]
  },
  {
   "cell_type": "code",
   "execution_count": 7,
   "id": "c747efc9-f5e6-483e-90ed-d3a4b757a5a0",
   "metadata": {},
   "outputs": [
    {
     "name": "stdout",
     "output_type": "stream",
     "text": [
      "hair\n",
      "I can't afford hair now!\n",
      "make-up\n",
      "Sure, I can afford make-up!\n",
      "nails\n",
      "Sure, I can afford nails!\n",
      "bags\n",
      "Sure, I can afford bags!\n",
      "clothes\n",
      "Sure, I can afford clothes!\n"
     ]
    }
   ],
   "source": [
    "# Examples of for loops\n",
    "\n",
    "old_list = ['hair', 'make-up', 'nails', 'bags', 'clothes']\n",
    "\n",
    "# Loop over all the items in your sister's list\n",
    "for item in old_list:\n",
    "    print(item)\n",
    "    # if it is hair\n",
    "    if item == 'hair':\n",
    "        # print this out\n",
    "        print(f'I can\\'t afford {item} now!')\n",
    "    else:\n",
    "        print(f'Sure, I can afford {item}!')"
   ]
  },
  {
   "cell_type": "markdown",
   "id": "d8fb0133-27b5-4eee-aec4-43383983e0a6",
   "metadata": {},
   "source": [
    "## Looping with an index\n",
    "\n",
    "In languages like C, when you loop over a sequence, you do not loop over the items in the sequence, rather you loop over the indices. Using those indices you can pull out the items at those index values. However, in Python, the reason for looping is to get the items/members in the sequence and not the indices. But you will occasionally need the index position of the item. The `enumerate` function does this for us.\n",
    "\n",
    "\n",
    "```python\n",
    "bank_acc = ['01554', '74859', '74589']\n",
    "for index, value in enumerate(bank_acc):\n",
    "    print(index, value)\n",
    "\n",
    "```"
   ]
  },
  {
   "cell_type": "code",
   "execution_count": 9,
   "id": "96ef2749-4cc6-40f0-8cd0-357f0e3a3527",
   "metadata": {},
   "outputs": [
    {
     "name": "stdout",
     "output_type": "stream",
     "text": [
      "Do nothing\n",
      "Index 1  --->   Value make-up\n",
      "Do nothing\n",
      "Index 3  --->   Value bags\n",
      "Do nothing\n"
     ]
    }
   ],
   "source": [
    "# Examples of Enumerate\n",
    "sis_list = ['hair', 'make-up', 'nails', 'bags', 'clothes']\n",
    "\n",
    "for index, value in enumerate(sis_list):\n",
    "    # Check if the index is odd\n",
    "    if index % 2 != 0:\n",
    "        # Print out the Index and Value\n",
    "        print(f'Index {index}  --->   Value {value}')\n",
    "    else:\n",
    "        print('Do nothing')"
   ]
  },
  {
   "cell_type": "code",
   "execution_count": null,
   "id": "9430442e-e996-4110-ba86-385a49175e60",
   "metadata": {},
   "outputs": [],
   "source": [
    "# Examples of Enumerate\n",
    "bank_accs = ['01554', '74859', '74589', '14582', '47521', '85462']\n",
    "\n",
    "# Please loop through these accounts and print out the accounts\n",
    "# with index as an even number "
   ]
  },
  {
   "cell_type": "code",
   "execution_count": null,
   "id": "c72eed0c-96a9-486b-b059-cfa6bacddf92",
   "metadata": {},
   "outputs": [],
   "source": [
    "# Examples of Enumerate"
   ]
  },
  {
   "cell_type": "markdown",
   "id": "c7007e60-3307-47fb-af57-3bf418608091",
   "metadata": {},
   "source": [
    "## Breaking out of a Loop\n",
    "\n",
    "You may need to stop processing a loop early, without going over every item in the loop. The `break` keyword will jump out of the nearest loop you are in.\n",
    "\n",
    "\n",
    "```python\n",
    "numbers = [3,5,9,-1,3,1]\n",
    "\n",
    "result = 0\n",
    "\n",
    "for num in numbers:\n",
    "    if num < 0:\n",
    "        break\n",
    "    result = result + num\n",
    "```\n",
    "\n",
    "\n",
    "> The line:\n",
    "\n",
    "> `result = result + num`\n",
    "\n",
    "> can be re-written with an `augmented assignment` i.e.\n",
    "\n",
    "> `result+= num`"
   ]
  },
  {
   "cell_type": "code",
   "execution_count": null,
   "id": "75730e3f-75ee-4c53-992a-0ebdb1226681",
   "metadata": {},
   "outputs": [],
   "source": [
    "# Examples of break statement"
   ]
  },
  {
   "cell_type": "code",
   "execution_count": null,
   "id": "cb659241-b11c-4772-b878-573ea8a1b809",
   "metadata": {},
   "outputs": [],
   "source": [
    "# Examples of break statement"
   ]
  },
  {
   "cell_type": "code",
   "execution_count": null,
   "id": "d125e1d1-c8a6-43ae-97c0-61ad7c0b5dc0",
   "metadata": {},
   "outputs": [],
   "source": [
    "# Examples of break statement"
   ]
  },
  {
   "cell_type": "code",
   "execution_count": null,
   "id": "16b47b73-1c76-4919-b2ff-6fa043fcd961",
   "metadata": {},
   "outputs": [],
   "source": [
    "# Examples of break statement"
   ]
  },
  {
   "cell_type": "markdown",
   "id": "4ee16eb4-868d-4b44-9e7f-51173e4643e7",
   "metadata": {},
   "source": [
    "## Skipping over items in a Loop\n",
    "\n",
    "\n",
    "Another common looping idiom is skipping over items. If the body of the loop takes a while to execute, but you only need to execute it for certain items in the sequence, the `continue` keyword comes in handy.\n",
    "\n",
    "`The continue statement tells Python to disregard processing of the current item in the for loop and \"continue\" from the top of the block with the next value in the loop.`\n",
    "\n",
    "```python\n",
    "numbers = [3,5,9,-1,3,1]\n",
    "\n",
    "result = 0\n",
    "\n",
    "for number in numbers:\n",
    "    if number < 0:\n",
    "        continue\n",
    "    result = result + number\n",
    "```"
   ]
  },
  {
   "cell_type": "code",
   "execution_count": null,
   "id": "bbc7df5e-a978-4856-a529-a11e8b02bf22",
   "metadata": {},
   "outputs": [],
   "source": [
    "# Examples of Continue"
   ]
  },
  {
   "cell_type": "code",
   "execution_count": null,
   "id": "c819e0aa-576c-4197-9c9b-f25ed7bf8f94",
   "metadata": {},
   "outputs": [],
   "source": [
    "# Examples of Continue"
   ]
  },
  {
   "cell_type": "code",
   "execution_count": null,
   "id": "df0d45a8-2a1e-416f-a347-8c7298bfc7ac",
   "metadata": {},
   "outputs": [],
   "source": [
    "# Examples of Continue"
   ]
  },
  {
   "cell_type": "markdown",
   "id": "8697024a-8f18-4e3e-82c1-f29b05845c6b",
   "metadata": {},
   "source": [
    "## The in statement\n",
    "\n",
    "The `in` statement can be used to check for membership. If you want to know if a list contains an item, you can use the `in` statement to check that.\n",
    "\n",
    "\n",
    "```python\n",
    "user_names = ['Joseph', 'Awuah', 'Steven', 'Bright']\n",
    "\n",
    "# Check if the list contains Awuah\n",
    "'Awuah' in user_names\n",
    "\n",
    "# To check the index\n",
    "user_names.index('Awuah')\n",
    "```"
   ]
  },
  {
   "cell_type": "code",
   "execution_count": 17,
   "id": "eceda510-c8c7-41c0-af3f-a4f896cdf97f",
   "metadata": {},
   "outputs": [],
   "source": [
    "# Using the in statement\n",
    "\n",
    "db_user_names = ['kwadwo', 'kwame', 'adjoa', 'wofa', 'dela']\n",
    "\n",
    "password = []"
   ]
  },
  {
   "cell_type": "code",
   "execution_count": 16,
   "id": "262b30e7-a4e3-47e6-a95f-305e2a843398",
   "metadata": {},
   "outputs": [
    {
     "name": "stdin",
     "output_type": "stream",
     "text": [
      "Enter username Kwame\n"
     ]
    },
    {
     "name": "stdout",
     "output_type": "stream",
     "text": [
      "username Kwame cannot found\n"
     ]
    }
   ],
   "source": [
    "\n",
    "\n",
    "\n",
    "# Step 1: Write a program that asks the user to enter his username\n",
    "username= input(\"Enter username\")\n",
    "# Step 2: When this is entered check if the user_name exists in\n",
    "if username in db_user_names:\n",
    "    pass_word = input(\"Enter password\")\n",
    "    password.append(pass_word)\n",
    "    print(f'username--> {username} password-->{password}')\n",
    "else:\n",
    "    print(f'username {username} cannot found')\n",
    "# your database\n",
    "# Step 3:If this exists, ask the user to enter their password and\n",
    "# save this password. The password must be saved in a list"
   ]
  },
  {
   "cell_type": "code",
   "execution_count": 15,
   "id": "d0ec21aa-5346-4688-9b2e-0f736a9dcec1",
   "metadata": {},
   "outputs": [
    {
     "data": {
      "text/plain": [
       "['122344']"
      ]
     },
     "execution_count": 15,
     "metadata": {},
     "output_type": "execute_result"
    }
   ],
   "source": [
    "# Using the in statement\n",
    "password"
   ]
  },
  {
   "cell_type": "markdown",
   "id": "0d1e5f16-70d3-46b7-a66d-6160468273b4",
   "metadata": {},
   "source": [
    ".."
   ]
  },
  {
   "cell_type": "markdown",
   "id": "53e941f5-4c54-4065-831d-9e03cf4d5bd5",
   "metadata": {},
   "source": [
    "# while loops\n",
    "\n",
    "Python will let you loop over a block of code while a condition holds. This is the `while` loop and you use a `while` statement to create it. A while loop is followed by an expression that evaluates to `True` or `False` then a  colon (:) follows it.\n",
    " An indented block of code follows the colon. This block of code will continue to repeat as long as the expression evaluates to `True`. This allows you to easily create an `infinite` loop.\n",
    "\n",
    ">You usually try to avoid infinite loops because they cause your program to ”hang”, forever caught in the processing of a loop with no way out.\n",
    "\n",
    "\n",
    "```python\n",
    "n = 3\n",
    "\n",
    "while n > 0:\n",
    "    print(n)\n",
    "    n = n-1\n",
    "```\n",
    "\n",
    "You can also use the break statement to exit a while loop:\n",
    "\n",
    "```python\n",
    "n = 3\n",
    "while True:\n",
    "    print(n)\n",
    "    n = n-1\n",
    "    if n == 0:\n",
    "        break\n",
    "\n",
    "```"
   ]
  },
  {
   "cell_type": "code",
   "execution_count": 18,
   "id": "d4685dfa-db41-45e7-86ef-b4284f9b7170",
   "metadata": {},
   "outputs": [
    {
     "name": "stdout",
     "output_type": "stream",
     "text": [
      "clothes\n",
      "bags\n",
      "nails\n",
      "make-up\n",
      "hair\n"
     ]
    }
   ],
   "source": [
    "# Examples of while loops\n",
    "\n",
    "sis_list = ['hair', 'make-up', 'nails', 'bags', 'clothes']\n",
    "\n",
    "n = len(sis_list)\n",
    "\n",
    "while n != 0:\n",
    "    print(sis_list[n-1])\n",
    "    # Decreament n\n",
    "    n -= 1"
   ]
  },
  {
   "cell_type": "code",
   "execution_count": null,
   "id": "110740a4-d272-438f-8495-1cde9d403c04",
   "metadata": {},
   "outputs": [],
   "source": [
    "# Examples of while loops"
   ]
  },
  {
   "cell_type": "code",
   "execution_count": null,
   "id": "f2b7789d-389d-4ed1-8cff-a80d3887c5c1",
   "metadata": {},
   "outputs": [],
   "source": [
    "# Examples of while loops"
   ]
  },
  {
   "cell_type": "code",
   "execution_count": 2,
   "id": "ae21296a-55c7-46bd-a616-7940214e5dda",
   "metadata": {},
   "outputs": [],
   "source": [
    "# Create a list with the names of friends and colleagues. Calculate the average length of\n",
    "# the names."
   ]
  },
  {
   "cell_type": "markdown",
   "id": "023fec17-1e4c-4146-b147-25a8c5520986",
   "metadata": {},
   "source": [
    "es:\n",
    "ow.t)."
   ]
  },
  {
   "cell_type": "markdown",
   "id": "a168642b-fba9-4f38-893a-c0d7c6589821",
   "metadata": {},
   "source": [
    "# Dictionaries\n",
    "\n",
    "\n",
    "You can compare a Python dictionary to an English dictionary. An English dictionary has words and definitions. The purpose of a dictionary is to allow fast lookup of the word in order to find the definition. You can quickly look up any word by doing a binary search (open up the dictionary to the midpoint, and determine which half the word is in, and repeat).\n",
    "\n",
    "A Python dictionary also has words and definitions, but you call them `keys` and `values` respectively. The purpose of a dictionary is to provide fast lookup of the keys. You can quickly look for a key and pull out the value associated with it. Like an English dictionary, where it would take a long time to determine the word from a definition (if you didn’t know the word beforehand), looking up the value is slow.\n",
    "\n",
    "\n",
    "## Dictionary Assignment\n",
    "Dictionaries provide a link from a `key` to a `value`. (Other languages call them hashes, hashmaps, maps, or associative arrays).\n",
    "\n",
    "> Suppose you wanted to store information about an individual. You saw how you could use a tuple to represent a record. A dictionary is another mechanism. Because dictionaries are built into Python, you can use a literal syntax to create one. This one has first and last names:\n",
    "\n",
    "```python\n",
    "info = {'first_name': 'Joseph', 'last_name': 'Awuah'}\n",
    "```"
   ]
  },
  {
   "cell_type": "code",
   "execution_count": 21,
   "id": "a30699e3-0fea-4708-a509-523bc7bc298a",
   "metadata": {},
   "outputs": [
    {
     "data": {
      "text/plain": [
       "{'001': 'Kwame', '002': 'kojo', '003': 'kweku'}"
      ]
     },
     "execution_count": 21,
     "metadata": {},
     "output_type": "execute_result"
    }
   ],
   "source": [
    "# Examples with Dictionaries\n",
    "\n",
    "\n",
    "acc_dict = {\n",
    "            '001': 'Kwame',\n",
    "            '002': 'kojo',\n",
    "            '003': 'kweku'\n",
    "           }\n",
    "\n",
    "acc_dict"
   ]
  },
  {
   "cell_type": "code",
   "execution_count": 22,
   "id": "73779513-45b1-4c3e-8032-d2963089bcd9",
   "metadata": {},
   "outputs": [
    {
     "data": {
      "text/plain": [
       "{'001': ['Joseph', 'Awuah', 'Banker', 28],\n",
       " '002': ['Michael', 'Amoah', 'Analyst', 54]}"
      ]
     },
     "execution_count": 22,
     "metadata": {},
     "output_type": "execute_result"
    }
   ],
   "source": [
    "# Examples with Dictionaries\n",
    "\n",
    "acc_dict = {\n",
    "            '001': ['Joseph', 'Awuah', 'Banker', 28],\n",
    "            '002': ['Michael', 'Amoah', 'Analyst', 54]    \n",
    "           }\n",
    "\n",
    "acc_dict"
   ]
  },
  {
   "cell_type": "code",
   "execution_count": 24,
   "id": "0351cb55-add5-4404-8097-a2d614cde407",
   "metadata": {},
   "outputs": [
    {
     "data": {
      "text/plain": [
       "{'054': {'2521': ['Joseph', 'Awuah', 'Banker', 28]},\n",
       " '027': {'2145': ['Michael', 'Amoah', 'Analyst', 54]}}"
      ]
     },
     "execution_count": 24,
     "metadata": {},
     "output_type": "execute_result"
    }
   ],
   "source": [
    "# Examples with Dictionaries\n",
    "\n",
    "\n",
    "acc_dict = {\n",
    "            '054': {'2521': \n",
    "                    ['Joseph', 'Awuah', 'Banker', 28]},\n",
    "            '027': {'2145':\n",
    "                   ['Michael', 'Amoah', 'Analyst', 54]}\n",
    "           }\n",
    "\n",
    "acc_dict"
   ]
  },
  {
   "cell_type": "markdown",
   "id": "8323b620-f64b-4ed6-acec-b152f19cc9d8",
   "metadata": {},
   "source": [
    "## Inserting values into a dictionary\n",
    "\n",
    "```python\n",
    "info['age'] = 38\n",
    "info['occupation'] = 'Analyst'\n",
    "```"
   ]
  },
  {
   "cell_type": "code",
   "execution_count": 2,
   "id": "52e9307f-1751-4098-ab26-456e27c78bd2",
   "metadata": {},
   "outputs": [
    {
     "data": {
      "text/plain": [
       "{'001': 'Kwame', '002': 'kojo', '003': 'kweku', '004': 'efua'}"
      ]
     },
     "execution_count": 2,
     "metadata": {},
     "output_type": "execute_result"
    }
   ],
   "source": [
    "# Examples of inserting values\n",
    "\n",
    "acc_dict = {\n",
    "            '001': 'Kwame',\n",
    "            '002': 'kojo',\n",
    "            '003': 'kweku'\n",
    "           }\n",
    "\n",
    "acc_dict['004'] = 'efua'\n",
    "\n",
    "acc_dict"
   ]
  },
  {
   "cell_type": "code",
   "execution_count": 3,
   "id": "459da7b5-e695-4ac9-84e2-7adc01dfd0e8",
   "metadata": {},
   "outputs": [
    {
     "data": {
      "text/plain": [
       "{'001': 'Kwame', '002': 'kojo', '003': 'kweku', '004': 'Efua'}"
      ]
     },
     "execution_count": 3,
     "metadata": {},
     "output_type": "execute_result"
    }
   ],
   "source": [
    "acc_dict['004'] = 'Efua'\n",
    "\n",
    "acc_dict"
   ]
  },
  {
   "cell_type": "code",
   "execution_count": null,
   "id": "a774e9bd-35c4-4537-8542-9c58b4427818",
   "metadata": {},
   "outputs": [],
   "source": [
    "# Examples of updating values"
   ]
  },
  {
   "cell_type": "markdown",
   "id": "095fe4dc-299c-4934-8c5d-7483f0986d8e",
   "metadata": {},
   "source": [
    "## Retrieving values from a dictionary\n",
    "\n",
    "As you have seen, the square bracket literal syntax can pull a value out of a dictionary when \n",
    "you use the brackets without assignment\n",
    "\n",
    "```python\n",
    "info['age']\n",
    "```\n",
    "\n",
    "> As you have seen, the square bracket literal syntax can pull a value out of a dictionary when \n",
    "you use the brackets without assignment::"
   ]
  },
  {
   "cell_type": "code",
   "execution_count": 4,
   "id": "129e819e-8de1-473c-a1dd-0367c53682d1",
   "metadata": {},
   "outputs": [
    {
     "data": {
      "text/plain": [
       "'Efua'"
      ]
     },
     "execution_count": 4,
     "metadata": {},
     "output_type": "execute_result"
    }
   ],
   "source": [
    "# Examples of retrieving values from dictionaries\n",
    "\n",
    "acc_dict['004']"
   ]
  },
  {
   "cell_type": "code",
   "execution_count": null,
   "id": "475ca59c-8c15-4e2f-a1bf-ee7fbd5f2c7b",
   "metadata": {},
   "outputs": [],
   "source": [
    "# Examples of retrieving values from dictionaries"
   ]
  },
  {
   "cell_type": "code",
   "execution_count": null,
   "id": "ecc31d30-8375-4b77-af5e-e99be2f070b7",
   "metadata": {},
   "outputs": [],
   "source": [
    "# Examples of retrieving values from dictionaries"
   ]
  },
  {
   "cell_type": "markdown",
   "id": "8a949a4e-de5d-4cab-9668-55675bcc60bc",
   "metadata": {},
   "source": [
    "o)\n",
    "```"
   ]
  },
  {
   "cell_type": "markdown",
   "id": "6cbbe93d-729c-4ed8-a3b2-d5901641e248",
   "metadata": {},
   "source": [
    "## Dictionary Methods\n",
    "\n",
    "The `.get` method of a dictionary will retrieve a value for a key. .get also accepts an optional parameter to provide a default value if the key is not found. If you wanted the genre to default to 'Rock', you could do the following:\n",
    "\n",
    "```python\n",
    "role = info.get('job', 'Banker')\n",
    "```\n",
    "\n",
    "> The .get method of dictionaries is one way to get around the KeyError thrown when trying to use the bracket notation to pull out a key not found in the dictionary. It is fine to use this method because you are being explicit about what will happen when the key is missing. You should prefer to fail fast when you aren’t being specific about the failing case.\n",
    "\n",
    "\n",
    "Inspect more methods\n",
    "\n",
    "```python\n",
    "dir(info)\n",
    "```"
   ]
  },
  {
   "cell_type": "code",
   "execution_count": 5,
   "id": "2adb54d6-e57a-4378-9c40-fe0b2e5ff839",
   "metadata": {},
   "outputs": [
    {
     "data": {
      "text/plain": [
       "['__class__',\n",
       " '__contains__',\n",
       " '__delattr__',\n",
       " '__delitem__',\n",
       " '__dir__',\n",
       " '__doc__',\n",
       " '__eq__',\n",
       " '__format__',\n",
       " '__ge__',\n",
       " '__getattribute__',\n",
       " '__getitem__',\n",
       " '__gt__',\n",
       " '__hash__',\n",
       " '__init__',\n",
       " '__init_subclass__',\n",
       " '__iter__',\n",
       " '__le__',\n",
       " '__len__',\n",
       " '__lt__',\n",
       " '__ne__',\n",
       " '__new__',\n",
       " '__reduce__',\n",
       " '__reduce_ex__',\n",
       " '__repr__',\n",
       " '__reversed__',\n",
       " '__setattr__',\n",
       " '__setitem__',\n",
       " '__sizeof__',\n",
       " '__str__',\n",
       " '__subclasshook__',\n",
       " 'clear',\n",
       " 'copy',\n",
       " 'fromkeys',\n",
       " 'get',\n",
       " 'items',\n",
       " 'keys',\n",
       " 'pop',\n",
       " 'popitem',\n",
       " 'setdefault',\n",
       " 'update',\n",
       " 'values']"
      ]
     },
     "execution_count": 5,
     "metadata": {},
     "output_type": "execute_result"
    }
   ],
   "source": [
    "dir(acc_dict)"
   ]
  },
  {
   "cell_type": "code",
   "execution_count": 7,
   "id": "13f20ad7-2cf8-4bb0-b89c-7c13147d5db1",
   "metadata": {},
   "outputs": [
    {
     "data": {
      "text/plain": [
       "dict_items([('001', 'Kwame'), ('002', 'kojo'), ('003', 'kweku'), ('004', 'Efua')])"
      ]
     },
     "execution_count": 7,
     "metadata": {},
     "output_type": "execute_result"
    }
   ],
   "source": [
    "acc_dict.items()"
   ]
  },
  {
   "cell_type": "code",
   "execution_count": 8,
   "id": "4dad1317-f650-4c7a-910d-567506a83f51",
   "metadata": {},
   "outputs": [
    {
     "data": {
      "text/plain": [
       "\u001b[1;31mDocstring:\u001b[0m D.clear() -> None.  Remove all items from D.\n",
       "\u001b[1;31mType:\u001b[0m      builtin_function_or_method"
      ]
     },
     "metadata": {},
     "output_type": "display_data"
    }
   ],
   "source": [
    "acc_dict.clear?"
   ]
  },
  {
   "cell_type": "code",
   "execution_count": null,
   "id": "42bb044a-2a54-45de-8790-b4eaf5a76c95",
   "metadata": {},
   "outputs": [],
   "source": [
    "# Examples of dictionary methods get"
   ]
  },
  {
   "cell_type": "code",
   "execution_count": 13,
   "id": "a271e093-24e8-4632-a36e-147b24b49975",
   "metadata": {},
   "outputs": [
    {
     "data": {
      "text/plain": [
       "'***'"
      ]
     },
     "execution_count": 13,
     "metadata": {},
     "output_type": "execute_result"
    }
   ],
   "source": [
    "# Examples of dictionary methods get\n",
    "\n",
    "acc_dict.get('009', '***')\n",
    "\n",
    "# acc_dict['009']"
   ]
  },
  {
   "cell_type": "code",
   "execution_count": null,
   "id": "83b71e24-4fa0-49a2-bda5-4d87504f7398",
   "metadata": {},
   "outputs": [],
   "source": [
    "# Examples of dictionary methods del\n",
    "\n"
   ]
  },
  {
   "cell_type": "markdown",
   "id": "d8b0d5f1-432d-4017-bf69-21278c072cf0",
   "metadata": {},
   "source": [
    ":"
   ]
  },
  {
   "cell_type": "markdown",
   "id": "d3114699-efbc-401b-8995-5c7958473e5d",
   "metadata": {},
   "source": [
    "## Dictionary iteration\n",
    "\n",
    "Dictionaries also support iteration using the `for` statement. By default, when you iterate over a dictionary, you get back the keys:\n",
    "\n",
    "```python\n",
    "data = {'Joseph': 38, 'Awuah': 28}\n",
    "\n",
    "for name in data:\n",
    "    print(name)\n",
    "```"
   ]
  },
  {
   "cell_type": "code",
   "execution_count": null,
   "id": "ee6e7322-5b8d-48fa-915a-528d32af0fed",
   "metadata": {},
   "outputs": [],
   "source": [
    "# Working with Dictionary Keys"
   ]
  },
  {
   "cell_type": "code",
   "execution_count": 17,
   "id": "6f81c7bf-25c2-4681-9387-ee1a1042121a",
   "metadata": {},
   "outputs": [
    {
     "data": {
      "text/plain": [
       "dict_values(['Kwame', 'kojo', 'kweku', 'Efua'])"
      ]
     },
     "execution_count": 17,
     "metadata": {},
     "output_type": "execute_result"
    }
   ],
   "source": [
    "# Working with Dictionary Keys\n",
    "acc_dict.values()"
   ]
  },
  {
   "cell_type": "code",
   "execution_count": 16,
   "id": "ac152dfa-f1eb-4788-afe4-da4901c188c2",
   "metadata": {},
   "outputs": [
    {
     "name": "stdout",
     "output_type": "stream",
     "text": [
      "This is so cool! I get the value --> Kwame\n",
      "This is so cool! I get the value --> kojo\n",
      "This is so cool! I get the value --> kweku\n",
      "This is so cool! I get the value --> Efua\n"
     ]
    }
   ],
   "source": [
    "# Working with Dictionary Keys\n",
    "\n",
    "for acc in acc_dict.values():\n",
    "    print(f'This is so cool! I get the value --> {acc}')"
   ]
  },
  {
   "cell_type": "markdown",
   "id": "8a59f316-5f74-47f5-aaa9-60f25c578b95",
   "metadata": {},
   "source": [
    "> To iterate over the values of a dictionary, iterate over the .values method:\n",
    "\n",
    "```python\n",
    "for value in data.values():\n",
    "    print(value)\n",
    "```\n",
    "\n",
    "\n",
    "> To retrieve both key and value during iteration, use the .items method, which returns \n",
    "a view\n",
    "```python\n",
    "for key, value in data.items():\n",
    "    print(key, value)\n",
    "``:"
   ]
  },
  {
   "cell_type": "code",
   "execution_count": null,
   "id": "48d6c40c-1e81-4b5b-bee7-e4b28730e367",
   "metadata": {},
   "outputs": [],
   "source": [
    "# More Examples"
   ]
  },
  {
   "cell_type": "code",
   "execution_count": null,
   "id": "a4b4d37d-ed81-49c6-9df1-52b4c7ac0934",
   "metadata": {},
   "outputs": [],
   "source": [
    "# Final Project: Write a paragraph in a triple-quoted string. Use the .split method to create a list of\n",
    "# words. Create a dictionary to hold the count for every word in the paragraph.\n",
    "\n"
   ]
  }
 ],
 "metadata": {
  "kernelspec": {
   "display_name": "Python 3 (ipykernel)",
   "language": "python",
   "name": "python3"
  },
  "language_info": {
   "codemirror_mode": {
    "name": "ipython",
    "version": 3
   },
   "file_extension": ".py",
   "mimetype": "text/x-python",
   "name": "python",
   "nbconvert_exporter": "python",
   "pygments_lexer": "ipython3",
   "version": "3.8.10"
  }
 },
 "nbformat": 4,
 "nbformat_minor": 5
}
