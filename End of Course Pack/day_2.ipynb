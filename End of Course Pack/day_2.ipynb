{
 "cells": [
  {
   "cell_type": "markdown",
   "id": "8cda794d-f342-48fe-810f-a0fc630589c9",
   "metadata": {},
   "source": [
    "# More on Python Strings\n",
    "\n",
    "Python denotes strings by wrapping them with `' (single quotes)`, `\" (double quotes)`, `\"\"\"(triple doubles)` or `''' (triple singles)`. Here are some examples:\n",
    "\n",
    "\n",
    "```python\n",
    "character = 'a'\n",
    "name = 'Kwesi`\n",
    "with_quote = \"I'm an awesome programmer\"\n",
    "longer = \"\"\" This string \n",
    "             is made of \n",
    "             multiple lines\n",
    "          \"\"\"\n",
    "another_longer = '''This string \n",
    "                 is made of \n",
    "                 multiple lines\n",
    "                '''          \n",
    "escaped_string = 'I ain\\'t gonna do that!'\n",
    "zero_chars = ''\n",
    "unicode_snake = \"I love \\N{SNAKE}\"\n",
    "```\n",
    "\n",
    "\n",
    "## String Methods\n",
    "\n",
    "The dir function returns the attributes of an object. If you had a Python interpreter open and wanted to know what the attributes of a string are, you can do the following:\n",
    "\n",
    "```python\n",
    "\n",
    "dir('National Banking College')\n",
    "\n",
    "```\n",
    "\n",
    "Since you passed in the string 'National Banking College' to dir, the function displays the attributes of a string. This handy feature of Python illustrates its “batteries included” philosophy. Python gives you an easy mechanism to discover the attributes of any object."
   ]
  },
  {
   "cell_type": "code",
   "execution_count": 1,
   "id": "2aeea290-69ff-4b74-8a3c-46b75e7fe4b7",
   "metadata": {},
   "outputs": [
    {
     "data": {
      "text/plain": [
       "['__add__',\n",
       " '__class__',\n",
       " '__contains__',\n",
       " '__delattr__',\n",
       " '__dir__',\n",
       " '__doc__',\n",
       " '__eq__',\n",
       " '__format__',\n",
       " '__ge__',\n",
       " '__getattribute__',\n",
       " '__getitem__',\n",
       " '__getnewargs__',\n",
       " '__gt__',\n",
       " '__hash__',\n",
       " '__init__',\n",
       " '__init_subclass__',\n",
       " '__iter__',\n",
       " '__le__',\n",
       " '__len__',\n",
       " '__lt__',\n",
       " '__mod__',\n",
       " '__mul__',\n",
       " '__ne__',\n",
       " '__new__',\n",
       " '__reduce__',\n",
       " '__reduce_ex__',\n",
       " '__repr__',\n",
       " '__rmod__',\n",
       " '__rmul__',\n",
       " '__setattr__',\n",
       " '__sizeof__',\n",
       " '__str__',\n",
       " '__subclasshook__',\n",
       " 'capitalize',\n",
       " 'casefold',\n",
       " 'center',\n",
       " 'count',\n",
       " 'encode',\n",
       " 'endswith',\n",
       " 'expandtabs',\n",
       " 'find',\n",
       " 'format',\n",
       " 'format_map',\n",
       " 'index',\n",
       " 'isalnum',\n",
       " 'isalpha',\n",
       " 'isascii',\n",
       " 'isdecimal',\n",
       " 'isdigit',\n",
       " 'isidentifier',\n",
       " 'islower',\n",
       " 'isnumeric',\n",
       " 'isprintable',\n",
       " 'isspace',\n",
       " 'istitle',\n",
       " 'isupper',\n",
       " 'join',\n",
       " 'ljust',\n",
       " 'lower',\n",
       " 'lstrip',\n",
       " 'maketrans',\n",
       " 'partition',\n",
       " 'replace',\n",
       " 'rfind',\n",
       " 'rindex',\n",
       " 'rjust',\n",
       " 'rpartition',\n",
       " 'rsplit',\n",
       " 'rstrip',\n",
       " 'split',\n",
       " 'splitlines',\n",
       " 'startswith',\n",
       " 'strip',\n",
       " 'swapcase',\n",
       " 'title',\n",
       " 'translate',\n",
       " 'upper',\n",
       " 'zfill']"
      ]
     },
     "execution_count": 1,
     "metadata": {},
     "output_type": "execute_result"
    }
   ],
   "source": [
    "# Check the attributes and methods with a Python str here\n",
    "\n",
    "# define a string called Bank of Ghana\n",
    "bank_name = 'Bank of Ghana'\n",
    "\n",
    "# Check the properties and methods available to a string\n",
    "dir(bank_name)"
   ]
  },
  {
   "cell_type": "markdown",
   "id": "6036037f-820e-49df-9130-9c46efc96f5e",
   "metadata": {},
   "source": [
    "## String Methods\n",
    "\n",
    "Strings are immutable. Because strings are immutable, these methods do not mutate\r\n",
    "the string, but rather return a new string or a new result. Strings allow you create a new\r\n",
    "version that is capitalized, return a formatted string, or create a lowercase string, as well  s\r\n",
    "many other actions. You do this by calling method\n",
    "\n",
    "Methods are functions that are called on an instance of a type. What does this mean?\r\n",
    "The string type allows you to call a method (another term for call is invoke) by placing a` ` \r\n",
    "(period) and the method name directly after the variable name holding the data (or the da a\r\n",
    "itself), followed by parentheses with arguments inside of them.s. "
   ]
  },
  {
   "cell_type": "code",
   "execution_count": 2,
   "id": "a40f6016-2368-4428-b090-08df977395ee",
   "metadata": {},
   "outputs": [
    {
     "data": {
      "text/plain": [
       "'Bank of ghana'"
      ]
     },
     "execution_count": 2,
     "metadata": {},
     "output_type": "execute_result"
    }
   ],
   "source": [
    "# Using Python String Methods: capitalize\n",
    "bank_name.capitalize()"
   ]
  },
  {
   "cell_type": "code",
   "execution_count": 3,
   "id": "f277f721-0405-40d0-abae-3c7982c7eba0",
   "metadata": {},
   "outputs": [
    {
     "name": "stdout",
     "output_type": "stream",
     "text": [
      "Help on built-in function upper:\n",
      "\n",
      "upper() method of builtins.str instance\n",
      "    Return a copy of the string converted to uppercase.\n",
      "\n"
     ]
    }
   ],
   "source": [
    "# How do we know what a method does?\n",
    "\n",
    "help(bank_name.upper)"
   ]
  },
  {
   "cell_type": "code",
   "execution_count": 5,
   "id": "9183cf97-6111-47c1-9da7-758750e1a93d",
   "metadata": {},
   "outputs": [
    {
     "data": {
      "text/plain": [
       "False"
      ]
     },
     "execution_count": 5,
     "metadata": {},
     "output_type": "execute_result"
    }
   ],
   "source": [
    "# Using Python String Methods: endswith\n",
    "\n",
    "bank_name.endswith('b')"
   ]
  },
  {
   "cell_type": "code",
   "execution_count": 6,
   "id": "6989ad8b-5eec-45a5-927e-eae2878faa50",
   "metadata": {
    "scrolled": true
   },
   "outputs": [
    {
     "name": "stdout",
     "output_type": "stream",
     "text": [
      "Help on built-in function endswith:\n",
      "\n",
      "endswith(...) method of builtins.str instance\n",
      "    S.endswith(suffix[, start[, end]]) -> bool\n",
      "    \n",
      "    Return True if S ends with the specified suffix, False otherwise.\n",
      "    With optional start, test S beginning at that position.\n",
      "    With optional end, stop comparing S at that position.\n",
      "    suffix can also be a tuple of strings to try.\n",
      "\n"
     ]
    }
   ],
   "source": [
    "help(bank_name.endswith)"
   ]
  },
  {
   "cell_type": "code",
   "execution_count": 7,
   "id": "9ca7675d-e46a-4ff0-8222-3a1b07adcb3a",
   "metadata": {},
   "outputs": [
    {
     "data": {
      "text/plain": [
       "False"
      ]
     },
     "execution_count": 7,
     "metadata": {},
     "output_type": "execute_result"
    }
   ],
   "source": [
    "# String methods\n",
    "\n",
    "bank_name.isdigit()"
   ]
  },
  {
   "cell_type": "code",
   "execution_count": null,
   "id": "5ce709d0-cd64-4182-b1ec-6cb6f8bae990",
   "metadata": {},
   "outputs": [],
   "source": [
    "# Using Python String Methods: startswith"
   ]
  },
  {
   "cell_type": "code",
   "execution_count": null,
   "id": "1b407c72-80b6-42e6-bf22-3c809df25dd5",
   "metadata": {},
   "outputs": [],
   "source": [
    "# Using Python String Methods: lower"
   ]
  },
  {
   "cell_type": "code",
   "execution_count": null,
   "id": "2123f81b-77e9-47b0-be45-52ab93d587c7",
   "metadata": {},
   "outputs": [],
   "source": [
    "# Using Python String Methods: upper"
   ]
  },
  {
   "cell_type": "code",
   "execution_count": null,
   "id": "f706b7dd-0b61-485c-bfc5-7a56b7b7fd85",
   "metadata": {},
   "outputs": [],
   "source": [
    "# Using Python String Methods: upper"
   ]
  },
  {
   "cell_type": "code",
   "execution_count": null,
   "id": "5c3084e3-780b-4b90-af94-ef160de14428",
   "metadata": {},
   "outputs": [],
   "source": [
    "# Project: Create a string, school, with the name of your elementary school. Examine the\n",
    "# methods that are available on that string and use 3 methods on this string\n",
    "\n",
    "\n"
   ]
  },
  {
   "cell_type": "markdown",
   "id": "bf0eb84f-d8d0-4206-ab0c-b42793a82d47",
   "metadata": {},
   "source": [
    "# Conditionals and Whitespace\n",
    "\n",
    "Most code needs to make decisions about which path to execute, so you will look at how this is done. In addition to the boolean values, True and False, in Python, you can also use expressions to get boolean values. If you have two numbers, you might want to compare\n",
    "them to check if they are greater than or less than each other.\n",
    "\n",
    "\n",
    "A table of comparison operators to create BOOLEAN values:\n",
    "| Operator    | Meaning |\n",
    "| ----------- | ------- |\n",
    "| >      | Greater than |\n",
    "| <      | Less than    |\n",
    "| >=     | Greater than or equal to |\n",
    "| <=    | Less than or equal to    |\n",
    "| ==    | Exactly Equal to    |\n",
    "| !=    | Not equal to    |\n",
    "| is    | Identical Object    | \n",
    "| is not    | Not identical object    |\n",
    "\n",
    "\n",
    "\n",
    "> The is and is not statements are for comparing identity. When testing for identity—if\n",
    "two objects are the same actual object with the same id (not just the same value)—use\n",
    "is or is not. Since None is a singleton and only has one identity, is and is not are\n",
    "used with None:\n",
    "\n",
    "```python\n",
    "\n",
    "if name is None:\n",
    "    # Do something\n",
    "```"
   ]
  },
  {
   "cell_type": "markdown",
   "id": "b300eecb-f49f-4c9c-b863-2aa0bee0b459",
   "metadata": {},
   "source": [
    "## if statements\n",
    "\n",
    "Booleans (True and False) are often used in conditional statements. Conditional statements\n",
    "are instructions that say `“if this statement is true, perform a block of code, otherwise execute some other code.`”Branching statements are used frequently in Python.\n",
    "\n",
    "Sometimes, the `“if statement”` will check values that contain booleans, other times it will check expressions that evaluate to booleans.\n",
    "\n",
    "```python\n",
    "   score = 88 \n",
    "   if score < 90:\n",
    "       # Execute the indented code\n",
    "```"
   ]
  },
  {
   "cell_type": "code",
   "execution_count": 16,
   "id": "5608156d-2e1d-4b49-b339-38bdfb94eacd",
   "metadata": {},
   "outputs": [
    {
     "name": "stdout",
     "output_type": "stream",
     "text": [
      "I am OUTSIDE the print statement!\n"
     ]
    }
   ],
   "source": [
    "# Examples with if statements and numbers\n",
    "\n",
    "\n",
    "# Test if the score is less than 100\n",
    "# test = (score < 100)\n",
    "\n",
    "\n",
    "# Print out the test\n",
    "# print(test)\n",
    "\n",
    "# if test:\n",
    "#     # Do something\n",
    "#     print('Your test worked!')\n",
    "\n",
    "# What was your score\n",
    "score = 550\n",
    "\n",
    "if ( score < 100):\n",
    "    # Print this code\n",
    "    print('I am under the if statement!')\n",
    "\n",
    "print('I am OUTSIDE the print statement!')"
   ]
  },
  {
   "cell_type": "code",
   "execution_count": 21,
   "id": "b372791b-d856-4f6c-abbe-2079d03cd3b3",
   "metadata": {},
   "outputs": [
    {
     "name": "stdin",
     "output_type": "stream",
     "text": [
      "Please enter your score:  50\n"
     ]
    },
    {
     "name": "stdout",
     "output_type": "stream",
     "text": [
      "Please try again\n"
     ]
    }
   ],
   "source": [
    "# Examples with if statements with inputs\n",
    "# Ask the user to enter their score\n",
    "user_prompt = input('Please enter your score: ')\n",
    "\n",
    "# Get integer score by converting str user prompt to integer \n",
    "int_score = int(user_prompt)\n",
    "\n",
    "# print(type(int_score))\n",
    "\n",
    "if int_score < 100:\n",
    "    print('Please try again')\n"
   ]
  },
  {
   "cell_type": "code",
   "execution_count": 25,
   "id": "2f23b42e-8f02-44ca-988b-97d7736e8d82",
   "metadata": {},
   "outputs": [
    {
     "name": "stdin",
     "output_type": "stream",
     "text": [
      "Please enter your MOMO pin (as digits): 0225\n"
     ]
    }
   ],
   "source": [
    "# Examples with if statements with the MOMO example\n",
    "pin_from_db = 1445\n",
    "\n",
    "# Step 1: Ask the user to enter their MOMO PIN\n",
    "user_prompt = input('Please enter your MOMO pin (as digits):')\n",
    "\n",
    "# print(user_prompt)\n",
    "# Step 2: Convert the MOMO Pin to an integer\n",
    "user_entered_pin = int(user_prompt)\n",
    "\n",
    "# Check whether the user has entered the \n",
    "# CORRECT PIN (have the correct pin stored as variable in your code)\n",
    "if user_entered_pin == pin_from_db:\n",
    "    print('You have entered the correct pin')\n",
    "\n",
    "\n",
    "# If the user has entered the right pin (the check passes)\n",
    "# Print out 'You have ENTERED THE CORRECT MOMO PIN'"
   ]
  },
  {
   "cell_type": "code",
   "execution_count": null,
   "id": "44b81fb2-04bb-4cb7-b52b-c874351b4979",
   "metadata": {},
   "outputs": [],
   "source": [
    "# Examples with if statements and strings [username]"
   ]
  },
  {
   "cell_type": "markdown",
   "id": "2bb6ff37-cbc6-4897-99f0-73b50584a567",
   "metadata": {},
   "source": [
    "# else statements\n",
    "\n",
    "An `else` statement can be used in combination with an `if` statement. The body of the `else` statement will execute only if the `if` statement evaluates to `False`.\n",
    "\n",
    "\n",
    "```python\n",
    "   score = 87\n",
    "   if score >= 90:\n",
    "       # Execute code here\n",
    "\n",
    "   else:\n",
    "       # Execute code here\n",
    "\n",
    "```"
   ]
  },
  {
   "cell_type": "code",
   "execution_count": 32,
   "id": "0df105c8-ffb8-4ace-a405-c52ffc9db7a3",
   "metadata": {},
   "outputs": [
    {
     "name": "stdin",
     "output_type": "stream",
     "text": [
      "Please enter your MOMO pin (as digits): 1445\n",
      "Please enter the amount to transfer: 2500\n"
     ]
    },
    {
     "name": "stdout",
     "output_type": "stream",
     "text": [
      "Are you sure you would like to transfer 2500\n"
     ]
    }
   ],
   "source": [
    "pin_from_db = 1445\n",
    "wallet_balance_from_db = 5666.22\n",
    "\n",
    "# Step 1: Ask the user to enter their MOMO PIN\n",
    "user_prompt = input('Please enter your MOMO pin (as digits):')\n",
    "\n",
    "# print(user_prompt)\n",
    "# Step 2: Convert the MOMO Pin to an integer\n",
    "user_entered_pin = int(user_prompt)\n",
    "\n",
    "# Check whether the user has entered the \n",
    "# CORRECT PIN (have the correct pin stored as variable in your code)\n",
    "if user_entered_pin == pin_from_db:\n",
    "    # print('You have entered the correct pin')\n",
    "\n",
    "    # if the user entered the CORRECT PIN, ask user the amount to transfer and \n",
    "    # PRINT the amount\n",
    "    user_entered_amt = input('Please enter the amount to transfer:')\n",
    "    # print(f'Are you sure you would like to transfer {user_entered_amt}',)\n",
    "\n",
    "    # Convert the amount enterred to float\n",
    "    user_entered_amount_flt = float(user_entered_amt)\n",
    "\n",
    "    # Now check if the amount entered is GREATER THAN THE BALANCE in the WALLET\n",
    "    if user_entered_amount_flt > wallet_balance_from_db:\n",
    "        print(f'Insufficient balance. Your balance in the wallet is {wallet_balance_from_db} which is lower than the amount entered {user_entered_amount_flt}')\n",
    "\n",
    "    else:\n",
    "        # Do something\n",
    "        # Please confirm the transfer by letting the user enter a 1 to confirm\n",
    "        # Or a 0 to Cancel\n",
    "        \n",
    "\n",
    "else:\n",
    "    print('You have entered the wrong pin!')\n",
    "    "
   ]
  },
  {
   "cell_type": "code",
   "execution_count": null,
   "id": "37212b08-3f6d-4a74-860e-7f907b30ac52",
   "metadata": {},
   "outputs": [],
   "source": [
    "# Examples with if-else statements with inputs"
   ]
  },
  {
   "cell_type": "code",
   "execution_count": null,
   "id": "afa60ce2-c999-4327-be78-f7e7ded00fc4",
   "metadata": {},
   "outputs": [],
   "source": [
    "# Examples with if-else statements with the MOMO example"
   ]
  },
  {
   "cell_type": "code",
   "execution_count": null,
   "id": "15090c2e-1b7a-48c9-8135-42c902b847dc",
   "metadata": {},
   "outputs": [],
   "source": [
    "# Examples with if-else statements with strings [username]"
   ]
  },
  {
   "cell_type": "markdown",
   "id": "fb109f7a-2c6f-4b65-a909-8d794c293c0a",
   "metadata": {},
   "source": [
    "# More choices\n",
    "\n",
    "You can add more intermediate steps \n",
    "if needed using the elif keyword. elif is an abbreviation for “else if”\n",
    "\n",
    "```python\n",
    "    score = 87\n",
    "    if score >= 90:\n",
    "        grade = 'A'\n",
    "    elif score >= 80:\n",
    "        grade = 'B'\n",
    "    else:\n",
    "        grade='F'\n",
    "```\n",
    "\n",
    "> The if, elif, and else statements above each have their own block. Python will start\r\n",
    "from the top trying to find a statement that evaluates to True, when it does, it runs the bloc \r\n",
    "and then continues executing at the code following all of the elif and else blocks. If none\r\n",
    "of the if or elif statements are True, it runs the block for the else statement.."
   ]
  },
  {
   "cell_type": "code",
   "execution_count": null,
   "id": "a9c24600-23b0-4d44-b394-14b28db99af7",
   "metadata": {},
   "outputs": [],
   "source": [
    "# Implement a comprehensive school grading system Example"
   ]
  },
  {
   "cell_type": "markdown",
   "id": "3d537124-c9bc-42a7-a513-b1f941d4cb57",
   "metadata": {},
   "source": [
    "## A note on whitespace\n",
    "\n",
    "> A peculiarity you may have noticed is the colon (:) following the boolean expression in the if statement. The lines immediately after the if statement were indented by four spaces. The indented lines are the block of code that is executed when the if expression evaluates to True.\n",
    "\n",
    "```javascript\n",
    "if (score >= 90) {\n",
    "grade = 'A';\n",
    "}\n",
    "```\n",
    "\n",
    "\n",
    "> In many of these languages, the curly braces, { and }, denote the boundaries of the if\r\n",
    "block. Any code between these braces is executed when the score is greater than or equal t \r\n",
    "9\n",
    "\n",
    "> Python, unlike those other languages, uses two things to denote blocks:\n",
    "> - a colon (:)\n",
    "> - indentation0."
   ]
  },
  {
   "cell_type": "code",
   "execution_count": 3,
   "id": "afdd58e8-c55a-4b26-938c-7c0d540196e3",
   "metadata": {},
   "outputs": [],
   "source": [
    "# Write an if statement to determine whether a variable holding an integer is odd."
   ]
  },
  {
   "cell_type": "code",
   "execution_count": 6,
   "id": "7390efa0-3c78-4312-ad70-e069125b1249",
   "metadata": {},
   "outputs": [],
   "source": [
    "# Write an if statement to determine whether a year entered by the user is a LEAP YEAR or not\n",
    "#  Wikipedia defines leap year as:\n",
    "# Every year that is exactly divisible by four is a leap year, except for years that\n",
    "# are exactly divisible by 100, but these centurial years are leap years if they\n",
    "# are exactly divisible by 400. For example, the years 1700, 1800, and 1900 are\n",
    "# not leap years, but the years 1600 and 2000 are."
   ]
  },
  {
   "cell_type": "markdown",
   "id": "447da06a-6221-4fb9-a190-bcf12ca156bd",
   "metadata": {},
   "source": [
    "# Containers: Lists, Tuples, and Sets\n",
    "\n",
    "Many of the types discussed so far have been scalars, which hold a single value. Integers,\n",
    "floats, and booleans are all scalar values. Containers hold multiple objects (scalar types or even other containers).\n",
    "\n",
    "## Lists\n",
    "Lists, as the name implies, are used to hold a list of objects. In Python, a list may hold any type of item and may mix item type. Though in practice, you only store a single item type in a list. Another way to think of a list is that they give an order to a sequence of items. They are a mutable type, meaning you can add, remove, and alter the contents of them.\n",
    "\n",
    "```python\n",
    " names = list()\n",
    " other_names = ['Fred', 'Charles']\n",
    "```\n"
   ]
  },
  {
   "cell_type": "code",
   "execution_count": 33,
   "id": "9bd8cbe7-52ed-4ea0-8976-c4977cde9e02",
   "metadata": {},
   "outputs": [
    {
     "name": "stdout",
     "output_type": "stream",
     "text": [
      "['fufu', 'red red', 'banku', 'rice']\n"
     ]
    }
   ],
   "source": [
    "# Create an example of a Pre-populated list\n",
    "\n",
    "\n",
    "list_of_food = ['fufu', 'red red', 'banku', 'rice']\n",
    "\n",
    "print(list_of_food)"
   ]
  },
  {
   "cell_type": "code",
   "execution_count": 36,
   "id": "b07caa8e-1445-4e12-b511-fbcdd63abe52",
   "metadata": {},
   "outputs": [
    {
     "name": "stdout",
     "output_type": "stream",
     "text": [
      "[5, 10.2, 15, 20, 35.35, 30, 'hey there']\n"
     ]
    }
   ],
   "source": [
    "# List of favorite numbers\n",
    "\n",
    "num_list = [5, 10.2, 15, 20, 35.35, 30, 'hey there']\n",
    "\n",
    "\n",
    "print(num_list)"
   ]
  },
  {
   "cell_type": "code",
   "execution_count": 37,
   "id": "4c37fc43-af4d-44fb-8f3f-634e4755bdf5",
   "metadata": {},
   "outputs": [
    {
     "name": "stdout",
     "output_type": "stream",
     "text": [
      "['D', 'a', 'n', 'i', 'e', 'l']\n"
     ]
    }
   ],
   "source": [
    "# Create an example of alist from a string\n",
    "\n",
    "name_str = 'Daniel'\n",
    "\n",
    "name_list = list(name_str)\n",
    "\n",
    "print(name_list)"
   ]
  },
  {
   "cell_type": "code",
   "execution_count": 38,
   "id": "ce47199d-a08a-4a69-b93a-8ead8afd2b1c",
   "metadata": {},
   "outputs": [
    {
     "name": "stdout",
     "output_type": "stream",
     "text": [
      "[]\n"
     ]
    }
   ],
   "source": [
    "# Create an example of a list from a string\n",
    "\n",
    "empty_list = []\n",
    "\n",
    "print(empty_list)"
   ]
  },
  {
   "cell_type": "code",
   "execution_count": 39,
   "id": "4a637e38-70a0-412e-8038-8ebb6f8cc80a",
   "metadata": {},
   "outputs": [
    {
     "data": {
      "text/plain": [
       "['__add__',\n",
       " '__class__',\n",
       " '__contains__',\n",
       " '__delattr__',\n",
       " '__delitem__',\n",
       " '__dir__',\n",
       " '__doc__',\n",
       " '__eq__',\n",
       " '__format__',\n",
       " '__ge__',\n",
       " '__getattribute__',\n",
       " '__getitem__',\n",
       " '__gt__',\n",
       " '__hash__',\n",
       " '__iadd__',\n",
       " '__imul__',\n",
       " '__init__',\n",
       " '__init_subclass__',\n",
       " '__iter__',\n",
       " '__le__',\n",
       " '__len__',\n",
       " '__lt__',\n",
       " '__mul__',\n",
       " '__ne__',\n",
       " '__new__',\n",
       " '__reduce__',\n",
       " '__reduce_ex__',\n",
       " '__repr__',\n",
       " '__reversed__',\n",
       " '__rmul__',\n",
       " '__setattr__',\n",
       " '__setitem__',\n",
       " '__sizeof__',\n",
       " '__str__',\n",
       " '__subclasshook__',\n",
       " 'append',\n",
       " 'clear',\n",
       " 'copy',\n",
       " 'count',\n",
       " 'extend',\n",
       " 'index',\n",
       " 'insert',\n",
       " 'pop',\n",
       " 'remove',\n",
       " 'reverse',\n",
       " 'sort']"
      ]
     },
     "execution_count": 39,
     "metadata": {},
     "output_type": "execute_result"
    }
   ],
   "source": [
    "dir(empty_list)"
   ]
  },
  {
   "cell_type": "markdown",
   "id": "c579b4b4-3eb9-4c84-8129-3f60c265f52b",
   "metadata": {},
   "source": [
    "## List Methods\n",
    "\n",
    "Use the code below to find the methods associated with a list\"\n",
    "```python\n",
    "   dir([])  \n",
    "```\n",
    "\n",
    "> Remember that lists are mutable. Python does not return a new list when you append \n",
    "to a list. Notice that the call to .append did not return a list (the REPL didn’t prin  anythin \r\n",
    "out). Rather it returns None and updates the list in plac\n",
    "\n",
    "> Every \n",
    "item in a list has an associated index, which describes its location in the list In many programming languages, the first item in a sequence is at index 0, the second\r\n",
    "item is at index 1, the third at index 2, and so on. Counting beginning with zero is calle \r\n",
    "zero-based indexing..e."
   ]
  },
  {
   "cell_type": "code",
   "execution_count": 41,
   "id": "8cb8c4e3-72cc-4fe2-b6f0-c8c40f0cbbdc",
   "metadata": {},
   "outputs": [
    {
     "name": "stdout",
     "output_type": "stream",
     "text": [
      "Adding 2 lists ['a', 'b', 'c', 'd', 1, 2, 3]\n"
     ]
    }
   ],
   "source": [
    "# Adding 2 lists\n",
    "\n",
    "first_list = ['a', 'b', 'c', 'd']\n",
    "\n",
    "second_list = [1, 2, 3]\n",
    "\n",
    "\n",
    "print(f'Adding 2 lists {first_list + second_list}')"
   ]
  },
  {
   "cell_type": "code",
   "execution_count": 46,
   "id": "e877113f-b82c-43fa-a056-4f70aafbc618",
   "metadata": {},
   "outputs": [
    {
     "name": "stdout",
     "output_type": "stream",
     "text": [
      "Multiplying ['a', 'b', 'c', 'd', 'a', 'b', 'c', 'd', 'a', 'b', 'c', 'd', 'a', 'b', 'c', 'd', 'a', 'b', 'c', 'd', 'a', 'b', 'c', 'd', 'a', 'b', 'c', 'd', 'a', 'b', 'c', 'd', 'a', 'b', 'c', 'd', 'a', 'b', 'c', 'd']\n"
     ]
    }
   ],
   "source": [
    "# Multiplying 2 lists by int\n",
    "\n",
    "first_list = ['a', 'b', 'c', 'd']\n",
    "\n",
    "second_list = [1, 2, 3]\n",
    "\n",
    "\n",
    "print(f'Multiplying {first_list * 10}')"
   ]
  },
  {
   "cell_type": "code",
   "execution_count": 45,
   "id": "e46ae097-f33a-4634-9b6c-7d3bbc8c11f4",
   "metadata": {},
   "outputs": [
    {
     "name": "stdout",
     "output_type": "stream",
     "text": [
      " Are the lists equal? True\n"
     ]
    }
   ],
   "source": [
    "# Test for Equality\n",
    "\n",
    "first_list = ['a', 'b', 'c', 'd']\n",
    "\n",
    "second_list = [1, 2, 3]\n",
    "\n",
    "\n",
    "print(f' Are the lists equal? {first_list != second_list}')"
   ]
  },
  {
   "cell_type": "code",
   "execution_count": 47,
   "id": "ebfefe0d-2809-4da6-9ee9-a0aaf493de5b",
   "metadata": {},
   "outputs": [
    {
     "name": "stdout",
     "output_type": "stream",
     "text": [
      "The length of my first list is 4\n"
     ]
    }
   ],
   "source": [
    "print(f'The length of my first list is {len(first_list)}')"
   ]
  },
  {
   "cell_type": "code",
   "execution_count": 49,
   "id": "fded869b-7f78-4951-8418-062c9e6bad7c",
   "metadata": {},
   "outputs": [
    {
     "name": "stdout",
     "output_type": "stream",
     "text": [
      "The first element of my list at index 2 is nails\n"
     ]
    }
   ],
   "source": [
    "# Examples of List Indexing\n",
    "\n",
    "new_list = ['hair', 'make-up', 'nails', 'bags', 'clothes']\n",
    "\n",
    "\n",
    "print(f'The first element of my list at index 2 is {new_list[2]}')"
   ]
  },
  {
   "cell_type": "code",
   "execution_count": 51,
   "id": "48d418cc-cc7c-489d-8012-15ea5ad438fe",
   "metadata": {},
   "outputs": [
    {
     "name": "stdout",
     "output_type": "stream",
     "text": [
      "The first element of my list at index 0-2 is ['hair', 'make-up']\n"
     ]
    }
   ],
   "source": [
    "# Examples of List Slicing\n",
    "\n",
    "new_list = ['hair', 'make-up', 'nails', 'bags', 'clothes']\n",
    "\n",
    "\n",
    "print(f'The first element of my list at index 0-2 is {new_list[0:2]}')"
   ]
  },
  {
   "cell_type": "code",
   "execution_count": 58,
   "id": "dd3037db-db50-4b55-8a29-2b7e64480178",
   "metadata": {},
   "outputs": [
    {
     "name": "stdout",
     "output_type": "stream",
     "text": [
      "['hair', 'make-up', 'nails', 'bags', 'clothes', 'bracelet']\n"
     ]
    }
   ],
   "source": [
    "# Examples of List and their methods\n",
    "\n",
    "# Appending\n",
    "\n",
    "old_list = ['hair', 'make-up', 'nails', 'bags', 'clothes']\n",
    "\n",
    "new_list = ['necklace']\n",
    "\n",
    "another_update = 'bracelet'\n",
    "\n",
    "old_list.append(another_update)\n",
    "\n",
    "print(old_list)"
   ]
  },
  {
   "cell_type": "code",
   "execution_count": 6,
   "id": "0c79f1b1-6c80-4127-ae66-f3e1a0ddb2ae",
   "metadata": {},
   "outputs": [
    {
     "data": {
      "text/plain": [
       "'necklace'"
      ]
     },
     "execution_count": 6,
     "metadata": {},
     "output_type": "execute_result"
    }
   ],
   "source": [
    "# Examples of List and their methods\n",
    "\n",
    "# Appending\n",
    "\n",
    "old_list = ['hair', 'make-up', 'nails', 'bags', 'clothes']\n",
    "\n",
    "new_list = ['necklace', 'bracelet', 'anklet']\n",
    "\n",
    "old_list.append(new_list)\n",
    "\n",
    "# print(f'The length of this list --> {old_list} is {len(old_list)}')\n",
    "old_list[5][0]"
   ]
  },
  {
   "cell_type": "code",
   "execution_count": 7,
   "id": "59630ad9-94e9-4fc9-afa5-ab042d41cb63",
   "metadata": {},
   "outputs": [
    {
     "data": {
      "text/plain": [
       "1"
      ]
     },
     "execution_count": 7,
     "metadata": {},
     "output_type": "execute_result"
    }
   ],
   "source": [
    "old_list.index('make-up')"
   ]
  },
  {
   "cell_type": "code",
   "execution_count": 75,
   "id": "7a017af3-9f9f-4fb1-b352-c5dc79cc1a87",
   "metadata": {},
   "outputs": [
    {
     "name": "stdout",
     "output_type": "stream",
     "text": [
      "Help on built-in function reverse:\n",
      "\n",
      "reverse() method of builtins.list instance\n",
      "    Reverse *IN PLACE*.\n",
      "\n"
     ]
    }
   ],
   "source": [
    "# Examples of List and their methods\n",
    "\n",
    "# Appending\n",
    "\n",
    "help(list.reverse)"
   ]
  },
  {
   "cell_type": "code",
   "execution_count": 80,
   "id": "5c498458-e2f5-4a42-ace5-c650a5e535f9",
   "metadata": {},
   "outputs": [
    {
     "data": {
      "text/plain": [
       "[9, 7, 5, 1]"
      ]
     },
     "execution_count": 80,
     "metadata": {},
     "output_type": "execute_result"
    }
   ],
   "source": [
    "# Examples of List and their methods\n",
    "\n",
    "list_of_nums = [1, 5, 7, 9]\n",
    "\n",
    "list_of_nums.reverse()\n",
    "\n",
    "\n",
    "list_of_nums"
   ]
  },
  {
   "cell_type": "code",
   "execution_count": null,
   "id": "6cd3a21a-4208-4ed2-a474-98460cbea1fb",
   "metadata": {},
   "outputs": [],
   "source": [
    "# Examples of List and their methods"
   ]
  },
  {
   "cell_type": "code",
   "execution_count": null,
   "id": "1284d406-2007-4ebc-9c77-c2d445e16cd8",
   "metadata": {},
   "outputs": [],
   "source": [
    "# Examples of List and their methods"
   ]
  },
  {
   "cell_type": "markdown",
   "id": "379d04e2-fa11-423b-a751-1c411b649f7d",
   "metadata": {},
   "source": [
    "## List insertion\n",
    "\n",
    "To insert an item at a certain index, use the `.insert method`. Calling `.insert` will shift any items following that index to the right:\n",
    "\n",
    "```python\n",
    "   names = ['Kwame','Kojo']\n",
    "   names.insert(0, 'Joseph')\n",
    "```\n",
    "\n",
    "The syntax for replacement at an index is the bracket notation:\n",
    "```python\n",
    "    names[1] = 'Kofi'\n",
    "    print(names)\n",
    "```\n",
    "\n",
    "\n",
    "To append items to the end of a list, use the `.append` method:\n",
    "```python\n",
    "    names.append('Kwabena')\n",
    "```\n"
   ]
  },
  {
   "cell_type": "code",
   "execution_count": 81,
   "id": "4e1ffe4c-6231-4a5f-a96f-84aceece1760",
   "metadata": {},
   "outputs": [
    {
     "name": "stdout",
     "output_type": "stream",
     "text": [
      "['Joseph', 'Kwame', 'Kojo']\n"
     ]
    }
   ],
   "source": [
    "# Examples of list insert\n",
    "\n",
    "names = ['Kwame','Kojo']\n",
    "\n",
    "# Insert Joseph at index 0\n",
    "names.insert(0, 'Joseph')\n",
    "\n",
    "print(names)"
   ]
  },
  {
   "cell_type": "code",
   "execution_count": 83,
   "id": "ba355dfc-877f-4737-aba4-7fcd5438a1bf",
   "metadata": {},
   "outputs": [
    {
     "data": {
      "text/plain": [
       "['Joseph', 'Kofi', 'Kojo']"
      ]
     },
     "execution_count": 83,
     "metadata": {},
     "output_type": "execute_result"
    }
   ],
   "source": [
    "# Examples of list updates\n",
    "\n",
    "names[1] = 'Kofi'\n",
    "\n",
    "\n",
    "names"
   ]
  },
  {
   "cell_type": "code",
   "execution_count": null,
   "id": "49d6aa88-acd0-41e3-9a55-a556af01a9b0",
   "metadata": {},
   "outputs": [],
   "source": [
    "# Examples of list appending"
   ]
  },
  {
   "cell_type": "markdown",
   "id": "e8acb2c2-e06c-4af0-9b29-581d084a01a8",
   "metadata": {},
   "source": [
    "## Sorting Lists \n",
    "\n",
    "A common operation on lists is sorting. The `.sort` method orders the values in the list.\n",
    "This method sorts the list in place. `It does not return a new, sorted copy of the list, rather it updates the list with the items reordered`:\n",
    "\n",
    "```python\n",
    "    names.sort()\n",
    "    print(names)\n",
    "```\n",
    "\n",
    "A general option for sorting sequences is the sorted function.he sorted function\n",
    "works with any sequence. It returns a new list that is ordered:\n",
    "\n",
    "```python\n",
    "   old = [4,6,-1,6]\n",
    "   new = sorted(old)\n",
    "```\n",
    "\n",
    "\n",
    "> Be careful about what you sort. Python wants you to be explicit. In Python 3, when you try to sort a list that contains heterogenous types, you might get an error."
   ]
  },
  {
   "cell_type": "code",
   "execution_count": 8,
   "id": "8847c4b0-4265-46bb-a205-9871645f2539",
   "metadata": {},
   "outputs": [
    {
     "data": {
      "text/plain": [
       "[-20, -2, 30, 50]"
      ]
     },
     "execution_count": 8,
     "metadata": {},
     "output_type": "execute_result"
    }
   ],
   "source": [
    "# Sort a list using the .sort method\n",
    "\n",
    "\n",
    "list_of_numbers = [-2, 30, -20, 50]\n",
    "\n",
    "\n",
    "list_of_numbers.sort()\n",
    "\n",
    "\n",
    "list_of_numbers"
   ]
  },
  {
   "cell_type": "code",
   "execution_count": 10,
   "id": "17577358-0143-4bd1-bf38-71669ad85dd9",
   "metadata": {},
   "outputs": [
    {
     "name": "stdout",
     "output_type": "stream",
     "text": [
      "My old list is unchanged --> [-2, 30, -20, 50]\n",
      "Whilst my new list is here --> [-20, -2, 30, 50]\n"
     ]
    }
   ],
   "source": [
    "# Sort a list using the sorted method\n",
    "\n",
    "\n",
    "old_list = [-2, 30, -20, 50]\n",
    "\n",
    "\n",
    "resulting_list = sorted(old_list)\n",
    "\n",
    "\n",
    "print(f'My old list is unchanged --> {old_list}\\nWhilst my new list is here --> {resulting_list}')"
   ]
  },
  {
   "cell_type": "markdown",
   "id": "b8037ffe-b712-4835-b7b2-382dcbc5daa3",
   "metadata": {},
   "source": [
    "## Using the range function\n",
    "\n",
    "range is a built-in function that constructs integer sequences. The following will create\n",
    "the numbers zero through four:\n",
    "```python\n",
    "   nums = range(5)\n",
    "   print(nums)\n",
    "```\n",
    "\n",
    "> Note that range does not materialize the list, but rather gives you an `iterable` that will return those numbers when iterated over. By passing the result into list you can see the numbers it would generate:\n",
    "```python\n",
    "    list(nums)\n",
    "```\n",
    "\n",
    "\n",
    "If you need to start at a non-zero number, range will accept two parameters. When\n",
    "there are two parameters, the first is the starting number (including itself), and the\n",
    "second is the “up to but not including”number:\n",
    "\n",
    "```python\n",
    "   nums = range(10, 20)\n",
    "   print(nums)\n",
    "```\n",
    "\n",
    "range also has an optional third parameter—stride. A stride of one (which is the\n",
    "default) means the next number in the sequence that range returns should be one more\n",
    "than the previous. A stride of 2 would return every other number. Below is an example\n",
    "that returns only even numbers below eleven:\n",
    "\n",
    "```python\n",
    "   nums = range(10, 20, 2)\n",
    "   print(nums)\n",
    "```"
   ]
  },
  {
   "cell_type": "code",
   "execution_count": 11,
   "id": "63e7db6c-641f-4535-b068-ede511cc8767",
   "metadata": {},
   "outputs": [
    {
     "data": {
      "text/plain": [
       "[0, 1, 2, 3, 4]"
      ]
     },
     "execution_count": 11,
     "metadata": {},
     "output_type": "execute_result"
    }
   ],
   "source": [
    "# Examples on range\n",
    "\n",
    "num_rng = range(5)\n",
    "\n",
    "list(num_rng)"
   ]
  },
  {
   "cell_type": "code",
   "execution_count": 12,
   "id": "c186855f-38f9-4065-9d91-bf1fecf72dc4",
   "metadata": {},
   "outputs": [
    {
     "data": {
      "text/plain": [
       "[5, 6, 7, 8, 9]"
      ]
     },
     "execution_count": 12,
     "metadata": {},
     "output_type": "execute_result"
    }
   ],
   "source": [
    "# Examples on range\n",
    "\n",
    "num_rng = range(5, 10)\n",
    "\n",
    "list(num_rng)"
   ]
  },
  {
   "cell_type": "code",
   "execution_count": 16,
   "id": "7a353f52-72ca-4a93-bd7a-121e0d5281c1",
   "metadata": {},
   "outputs": [
    {
     "data": {
      "text/plain": [
       "[5, 10]"
      ]
     },
     "execution_count": 16,
     "metadata": {},
     "output_type": "execute_result"
    }
   ],
   "source": [
    "# Examples on range\n",
    "\n",
    "num_rng = range(5, 15, 5)\n",
    "\n",
    "list(num_rng)"
   ]
  },
  {
   "cell_type": "code",
   "execution_count": null,
   "id": "05ccdb72-110b-43ac-8cdd-4ea660a46936",
   "metadata": {},
   "outputs": [],
   "source": [
    "# Examples on range"
   ]
  },
  {
   "cell_type": "markdown",
   "id": "841437b1-7f9f-4764-8d23-c415da62eb4e",
   "metadata": {},
   "source": [
    "# Tuples\n",
    "\n",
    "Tuples (commonly pronounced as either “two”-ples or “tuh”-ples) are immutable sequences.\r\n",
    "You should think of them as ordered records. Once you create them, you cannot change\r\n",
    "them. To create a tuple using the literal syntax, use parentheses around the members and\r\n",
    "commas in betwe\n",
    "\n",
    "```python\n",
    "   row = ('George', 'Giutar')\n",
    "   print(row)\n",
    "```en."
   ]
  },
  {
   "cell_type": "code",
   "execution_count": null,
   "id": "3920ad95-c681-4b6f-a101-cdb4656b9fe2",
   "metadata": {},
   "outputs": [],
   "source": [
    "# Creating an empty tuple"
   ]
  },
  {
   "cell_type": "code",
   "execution_count": null,
   "id": "fd2141f7-66a9-4e58-82f8-7a65ce024050",
   "metadata": {},
   "outputs": [],
   "source": [
    "# Differentiate b/n a single member tuple and brakets "
   ]
  },
  {
   "cell_type": "markdown",
   "id": "ad064127-72c4-4aa9-8ba8-b0af0c862ee2",
   "metadata": {},
   "source": [
    "> The main difference between the objects is mutability. Because tuples are immutable,\n",
    "they are able to serve as keys in dictionaries. Tuples are often used to represent a record of data such as the row of a database query, which may contain heterogeneous:\n",
    "\n",
    "```python\n",
    "person = ('Matt', '123 North 456 East', 24)\n",
    "```"
   ]
  }
 ],
 "metadata": {
  "kernelspec": {
   "display_name": "Python 3 (ipykernel)",
   "language": "python",
   "name": "python3"
  },
  "language_info": {
   "codemirror_mode": {
    "name": "ipython",
    "version": 3
   },
   "file_extension": ".py",
   "mimetype": "text/x-python",
   "name": "python",
   "nbconvert_exporter": "python",
   "pygments_lexer": "ipython3",
   "version": "3.8.10"
  }
 },
 "nbformat": 4,
 "nbformat_minor": 5
}
