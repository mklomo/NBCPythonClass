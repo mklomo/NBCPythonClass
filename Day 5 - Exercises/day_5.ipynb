{
 "cells": [
  {
   "cell_type": "markdown",
   "id": "1a29fa7f-e9e4-491b-9f3c-d3b55468035b",
   "metadata": {},
   "source": [
    "# Pandas Data Structures\n",
    "\n",
    "One of the keys to understanding pandas is to understand the data model. At the core of pandas \n",
    "are two data structures. The most widel  used data structures are the Series and the DataFrame fo \r\n",
    "dealing with array data and tabular dat\n",
    "\n",
    "\n",
    "|Data Structure | Dimensionality | Spreadsheet Analog | Database Analog|\n",
    "|---------------|----------------|--------------------|--------------|\n",
    "| Series | 1D | Column | Column/Field |\n",
    "| DataFrame | 2D | Single Sheet | Table |\n",
    "\n",
    "\n",
    "An analogy with the spreadsheet world illustrates the basic differences between these types. A `\n",
    "DataFram`e is similar to a sheet with rows and columns, while a` Serie`s is similar to a single column\r\n",
    "of data (when we refer to a column of data in this text, we are referring to a Series\n",
    "\n",
    "\n",
    "`Some have compared the data structures to Python lists or  dictionaries. I think this is a \n",
    "stretch that doesn’t provide much benefit. Mapping the list and dictionary methods on top o \r\n",
    "pandas’ data structures just leads to confusion.`).a."
   ]
  },
  {
   "cell_type": "markdown",
   "id": "50e79e04-e901-435c-947b-7efcf8a55e23",
   "metadata": {},
   "source": [
    "## DataFrames\n",
    "\n",
    "\n",
    "Dataframes can be created from:\n",
    "- columns (dictionary of lists)\n",
    "- rows (list of dicts)\n",
    "- CSV files (pd.read_csv)\n",
    "- other: SQL\n",
    "\n",
    "\n",
    "\n",
    "```python\n",
    "# Specify the file path\n",
    "df_path = 'mortgagedefault.csv'\n",
    "\n",
    "mortgage_df = pd.read_csv(filepath_or_buffer=df_path)\n",
    "\n",
    "# The code below also works\n",
    "mortgage_df = pd.read_csv(df_path)\n",
    "```"
   ]
  },
  {
   "cell_type": "code",
   "execution_count": 40,
   "id": "e40df00e-2d7d-4436-9d97-360cfddadbbd",
   "metadata": {},
   "outputs": [],
   "source": [
    "import pandas as pd\n",
    "\n",
    "# Loading a CSV data\n",
    "df_path = 'mortgagedefault.csv'\n",
    "\n",
    "mortgage_df = pd.read_csv(filepath_or_buffer= df_path)"
   ]
  },
  {
   "cell_type": "markdown",
   "id": "b7ddd86c-5894-4637-9204-43a09394afa9",
   "metadata": {},
   "source": [
    "## Preview Data\n",
    "\n",
    "After the data is loaded, you can preview the data using the `.head` method on your DataFrame.\n",
    "\n",
    "\n",
    "\n",
    "```python\n",
    "mortgage.head()\n",
    "```"
   ]
  },
  {
   "cell_type": "code",
   "execution_count": 41,
   "id": "2474ef64-9960-4698-b8f6-f041c017162b",
   "metadata": {},
   "outputs": [
    {
     "data": {
      "text/html": [
       "<div>\n",
       "<style scoped>\n",
       "    .dataframe tbody tr th:only-of-type {\n",
       "        vertical-align: middle;\n",
       "    }\n",
       "\n",
       "    .dataframe tbody tr th {\n",
       "        vertical-align: top;\n",
       "    }\n",
       "\n",
       "    .dataframe thead th {\n",
       "        text-align: right;\n",
       "    }\n",
       "</style>\n",
       "<table border=\"1\" class=\"dataframe\">\n",
       "  <thead>\n",
       "    <tr style=\"text-align: right;\">\n",
       "      <th></th>\n",
       "      <th>Customer Number</th>\n",
       "      <th>Age</th>\n",
       "      <th>Marital Status</th>\n",
       "      <th>Annual Income ($)</th>\n",
       "      <th>Mortgage Amount ($)</th>\n",
       "      <th>Payments Per Year</th>\n",
       "      <th>Total Amount Paid ($)</th>\n",
       "      <th>Default on Mortgage?</th>\n",
       "    </tr>\n",
       "  </thead>\n",
       "  <tbody>\n",
       "    <tr>\n",
       "      <th>0</th>\n",
       "      <td>1</td>\n",
       "      <td>37</td>\n",
       "      <td>SINGLE</td>\n",
       "      <td>172125.70</td>\n",
       "      <td>473402.96</td>\n",
       "      <td>24</td>\n",
       "      <td>581885.13</td>\n",
       "      <td>YES</td>\n",
       "    </tr>\n",
       "    <tr>\n",
       "      <th>1</th>\n",
       "      <td>2</td>\n",
       "      <td>31</td>\n",
       "      <td>SINGLE</td>\n",
       "      <td>108571.04</td>\n",
       "      <td>300468.60</td>\n",
       "      <td>12</td>\n",
       "      <td>489320.38</td>\n",
       "      <td>NO</td>\n",
       "    </tr>\n",
       "    <tr>\n",
       "      <th>2</th>\n",
       "      <td>3</td>\n",
       "      <td>37</td>\n",
       "      <td>MARRIED</td>\n",
       "      <td>124136.41</td>\n",
       "      <td>330664.24</td>\n",
       "      <td>24</td>\n",
       "      <td>493541.93</td>\n",
       "      <td>YES</td>\n",
       "    </tr>\n",
       "    <tr>\n",
       "      <th>3</th>\n",
       "      <td>4</td>\n",
       "      <td>24</td>\n",
       "      <td>MARRIED</td>\n",
       "      <td>79614.04</td>\n",
       "      <td>230222.94</td>\n",
       "      <td>24</td>\n",
       "      <td>449682.09</td>\n",
       "      <td>YES</td>\n",
       "    </tr>\n",
       "    <tr>\n",
       "      <th>4</th>\n",
       "      <td>5</td>\n",
       "      <td>27</td>\n",
       "      <td>SINGLE</td>\n",
       "      <td>68087.33</td>\n",
       "      <td>282203.53</td>\n",
       "      <td>12</td>\n",
       "      <td>520581.82</td>\n",
       "      <td>NO</td>\n",
       "    </tr>\n",
       "  </tbody>\n",
       "</table>\n",
       "</div>"
      ],
      "text/plain": [
       "   Customer Number  Age Marital Status   Annual Income ($)    \n",
       "0                1   37         SINGLE            172125.70  \\\n",
       "1                2   31         SINGLE            108571.04   \n",
       "2                3   37        MARRIED            124136.41   \n",
       "3                4   24        MARRIED             79614.04   \n",
       "4                5   27         SINGLE             68087.33   \n",
       "\n",
       "    Mortgage Amount ($)    Payments Per Year    Total Amount Paid ($)    \n",
       "0              473402.96                   24                581885.13  \\\n",
       "1              300468.60                   12                489320.38   \n",
       "2              330664.24                   24                493541.93   \n",
       "3              230222.94                   24                449682.09   \n",
       "4              282203.53                   12                520581.82   \n",
       "\n",
       "  Default on Mortgage?  \n",
       "0                  YES  \n",
       "1                   NO  \n",
       "2                  YES  \n",
       "3                  YES  \n",
       "4                   NO  "
      ]
     },
     "execution_count": 41,
     "metadata": {},
     "output_type": "execute_result"
    }
   ],
   "source": [
    "# Lets preview the data\n",
    "\n",
    "mortgage_df.head()"
   ]
  },
  {
   "cell_type": "markdown",
   "id": "d48ee11b-2dc0-4c52-a586-0af6e5d209d7",
   "metadata": {},
   "source": [
    "## Selecting Columns\n",
    "\n",
    "\n",
    "To select columns in a dataframe you can\n",
    "\n",
    "```python\n",
    "mortgage_df[['Customer Number', 'Age', 'Marital Status', ' Annual Income ($) ']]\n",
    "```\n",
    "\n",
    "\n",
    "> To get the column names use the code below:\n",
    "```python\n",
    "mortgage_df.columns\n",
    "```"
   ]
  },
  {
   "cell_type": "code",
   "execution_count": null,
   "id": "7640dbea-012f-4ac5-93c9-b87a81c4db6c",
   "metadata": {},
   "outputs": [],
   "source": [
    "# Exercise on selecting columns"
   ]
  },
  {
   "cell_type": "code",
   "execution_count": null,
   "id": "74fdf999-ef56-492d-8f05-8eb822c63ea1",
   "metadata": {},
   "outputs": [],
   "source": [
    "# Exercise on selecting columns"
   ]
  },
  {
   "cell_type": "code",
   "execution_count": null,
   "id": "2475b88c-cecb-45bd-87a9-e02e95158f11",
   "metadata": {},
   "outputs": [],
   "source": [
    "# Exercise on selecting columns"
   ]
  },
  {
   "cell_type": "code",
   "execution_count": null,
   "id": "e16871ab-20a8-4acc-bf24-3680ef3f66ce",
   "metadata": {},
   "outputs": [],
   "source": [
    "# Exercise on selecting columns"
   ]
  },
  {
   "cell_type": "markdown",
   "id": "410dfc33-7fad-4b04-8f2b-1776fc7a7600",
   "metadata": {},
   "source": [
    "## Math Methods on columns\n",
    "\n",
    "\n",
    "Imagine your manager wants to determine the `monthly income` of all customers in your data.\n",
    "\n",
    "\n",
    "How would you do this in excel?\n",
    "\n",
    "\n",
    "Now lets do this in Python.\n",
    "\n",
    "```python\n",
    "# Select the 'Annual Income ($)' column \n",
    "mortgage_df[[' Annual Income ($) ']] \n",
    "\n",
    "# Divide the select column by 12\n",
    "(mortgage_df[[' Annual Income ($) ']] / 12)\n",
    "\n",
    "```"
   ]
  },
  {
   "cell_type": "code",
   "execution_count": null,
   "id": "fbd04b0c-2691-4cd0-802a-b084f4d30333",
   "metadata": {},
   "outputs": [],
   "source": [
    "# Examples of Performing calculations in pandas"
   ]
  },
  {
   "cell_type": "code",
   "execution_count": null,
   "id": "9f5e8bb0-569f-46ee-95db-3cb1877f4aab",
   "metadata": {},
   "outputs": [],
   "source": [
    "# Examples of Performing calculations in pandas with methods"
   ]
  },
  {
   "cell_type": "code",
   "execution_count": null,
   "id": "21b6b079-c4c3-4ba7-9122-1583f0280707",
   "metadata": {},
   "outputs": [],
   "source": [
    "# Examples of Performing calculations in pandas (GHC Conversion) with methods"
   ]
  },
  {
   "cell_type": "code",
   "execution_count": null,
   "id": "2d1f979e-1fed-4f60-bbd9-0521d7f31488",
   "metadata": {},
   "outputs": [],
   "source": [
    "# Examples of Performing calculations in pandas (GHC Conversion) with methods"
   ]
  },
  {
   "cell_type": "markdown",
   "id": "b1bfb9bb-7b40-4ba1-98ca-b4ebd3b12d09",
   "metadata": {},
   "source": [
    "## Adding your new columns to the dataframe\n",
    "\n",
    "\n",
    "```python\n",
    "mortgage_df['new_colum'] = (mortgage_df[[' Annual Income ($) ']] / 12)\n",
    "```"
   ]
  },
  {
   "cell_type": "code",
   "execution_count": null,
   "id": "eaa78026-51e6-47ab-bbe4-534d26d8a7f3",
   "metadata": {},
   "outputs": [],
   "source": [
    "# Add the new columns created above to the  DataFrame"
   ]
  },
  {
   "cell_type": "code",
   "execution_count": null,
   "id": "4804f4f4-2d70-43cc-935c-ffcee8bbb494",
   "metadata": {},
   "outputs": [],
   "source": [
    "# Add the new columns created above to the  DataFrame"
   ]
  },
  {
   "cell_type": "code",
   "execution_count": null,
   "id": "11072fad-f354-4ea1-936c-2bc02d9db06a",
   "metadata": {},
   "outputs": [],
   "source": [
    "# Add the new columns created above to the  DataFrame"
   ]
  },
  {
   "cell_type": "code",
   "execution_count": null,
   "id": "384ea223-a708-4da4-b64c-bffc3b97707c",
   "metadata": {},
   "outputs": [],
   "source": [
    "# Add the new columns created above to the  DataFrame"
   ]
  },
  {
   "cell_type": "markdown",
   "id": "dee1192a-4649-43b9-9287-24ca6a3d3994",
   "metadata": {},
   "source": [
    "## Describing your new DataFrame\n",
    "\n",
    "\n",
    "```python\n",
    "mortgage_df.describe()\n",
    "```\n",
    "\n",
    "> Bonus: Can you do this in Excel?"
   ]
  },
  {
   "cell_type": "markdown",
   "id": "3e025dc3-601b-4c91-bad8-1477d1a00b62",
   "metadata": {},
   "source": [
    "## Filtering your dataframe\n",
    "\n",
    "\n",
    "Here we will use the `.loc` method to filter our dataframe. This is a row-wise operation.\n",
    "\n"
   ]
  },
  {
   "cell_type": "code",
   "execution_count": null,
   "id": "fecdbd93-f1ee-40b3-a918-5285a2ff9864",
   "metadata": {},
   "outputs": [],
   "source": [
    "# Applying the filtering Operation"
   ]
  },
  {
   "cell_type": "code",
   "execution_count": null,
   "id": "23119dc5-7a2d-4ab4-bd3a-4f6b44201c24",
   "metadata": {},
   "outputs": [],
   "source": [
    "# Applying the filtering Operation"
   ]
  },
  {
   "cell_type": "code",
   "execution_count": null,
   "id": "c0eecc57-730c-48fb-ad7d-6ecbf5ec5f07",
   "metadata": {},
   "outputs": [],
   "source": [
    "# Applying the filtering Operation"
   ]
  },
  {
   "cell_type": "code",
   "execution_count": null,
   "id": "0860f5ae-6d83-4550-ade3-f39aee83ca8d",
   "metadata": {},
   "outputs": [],
   "source": [
    "# Applying the filtering Operation"
   ]
  },
  {
   "cell_type": "code",
   "execution_count": null,
   "id": "633c7615-adb4-45c1-b625-7a500322260b",
   "metadata": {},
   "outputs": [],
   "source": [
    "# Applying the filtering Operation"
   ]
  },
  {
   "cell_type": "markdown",
   "id": "741937d1-5da6-403d-a359-b7886701d8a7",
   "metadata": {},
   "source": [
    "# Thank you for your time! See you soon!"
   ]
  }
 ],
 "metadata": {
  "kernelspec": {
   "display_name": "Python 3 (ipykernel)",
   "language": "python",
   "name": "python3"
  },
  "language_info": {
   "codemirror_mode": {
    "name": "ipython",
    "version": 3
   },
   "file_extension": ".py",
   "mimetype": "text/x-python",
   "name": "python",
   "nbconvert_exporter": "python",
   "pygments_lexer": "ipython3",
   "version": "3.8.10"
  }
 },
 "nbformat": 4,
 "nbformat_minor": 5
}
